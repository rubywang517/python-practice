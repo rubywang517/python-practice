{
 "cells": [
  {
   "cell_type": "code",
   "execution_count": 1,
   "metadata": {},
   "outputs": [],
   "source": [
    "import numpy as np \n",
    "import pandas as pd \n",
    "import matplotlib.pyplot as plt\n",
    "%matplotlib inline"
   ]
  },
  {
   "cell_type": "code",
   "execution_count": 2,
   "metadata": {},
   "outputs": [],
   "source": [
    "#read data\n",
    "train = pd.read_csv('op_firstrun_raw.csv')"
   ]
  },
  {
   "cell_type": "code",
   "execution_count": 3,
   "metadata": {},
   "outputs": [
    {
     "data": {
      "text/plain": [
       "(111379, 160)"
      ]
     },
     "execution_count": 3,
     "metadata": {},
     "output_type": "execute_result"
    }
   ],
   "source": [
    "train.shape"
   ]
  },
  {
   "cell_type": "code",
   "execution_count": 4,
   "metadata": {},
   "outputs": [
    {
     "data": {
      "text/html": [
       "<div>\n",
       "<style scoped>\n",
       "    .dataframe tbody tr th:only-of-type {\n",
       "        vertical-align: middle;\n",
       "    }\n",
       "\n",
       "    .dataframe tbody tr th {\n",
       "        vertical-align: top;\n",
       "    }\n",
       "\n",
       "    .dataframe thead th {\n",
       "        text-align: right;\n",
       "    }\n",
       "</style>\n",
       "<table border=\"1\" class=\"dataframe\">\n",
       "  <thead>\n",
       "    <tr style=\"text-align: right;\">\n",
       "      <th></th>\n",
       "      <th>deal_uuid</th>\n",
       "      <th>deal_key</th>\n",
       "      <th>sf_id</th>\n",
       "      <th>deal_year</th>\n",
       "      <th>deal_month</th>\n",
       "      <th>actual_start_date</th>\n",
       "      <th>actual_end_date</th>\n",
       "      <th>voucher_age</th>\n",
       "      <th>days_ran</th>\n",
       "      <th>division_key</th>\n",
       "      <th>...</th>\n",
       "      <th>market_ly_60_merchant_count</th>\n",
       "      <th>market_ly_60_avg_discount</th>\n",
       "      <th>market_ly_60_avg_price</th>\n",
       "      <th>sh_365_avg_deal_gb</th>\n",
       "      <th>sh_365_avg_udv_30</th>\n",
       "      <th>sh_365_avg_udv_90</th>\n",
       "      <th>sh_365_deal_count</th>\n",
       "      <th>sh_365_merchant_count</th>\n",
       "      <th>sh_365_avg_discount</th>\n",
       "      <th>sh_365_avg_price</th>\n",
       "    </tr>\n",
       "  </thead>\n",
       "  <tbody>\n",
       "    <tr>\n",
       "      <th>0</th>\n",
       "      <td>b8f33fe6-4776-4326-984a-071823c0d7dd</td>\n",
       "      <td>43563263</td>\n",
       "      <td>001C000001YfzvGIAR</td>\n",
       "      <td>2017</td>\n",
       "      <td>1</td>\n",
       "      <td>2017-01-15</td>\n",
       "      <td>2017-01-18</td>\n",
       "      <td>NaN</td>\n",
       "      <td>4</td>\n",
       "      <td>3500034</td>\n",
       "      <td>...</td>\n",
       "      <td>NaN</td>\n",
       "      <td>NaN</td>\n",
       "      <td>NaN</td>\n",
       "      <td>NaN</td>\n",
       "      <td>NaN</td>\n",
       "      <td>NaN</td>\n",
       "      <td>NaN</td>\n",
       "      <td>NaN</td>\n",
       "      <td>NaN</td>\n",
       "      <td>NaN</td>\n",
       "    </tr>\n",
       "    <tr>\n",
       "      <th>1</th>\n",
       "      <td>b8fb9088-2dcf-42b1-aa05-ab09018a43e6</td>\n",
       "      <td>43609398</td>\n",
       "      <td>001C000001ZT9XnIAL</td>\n",
       "      <td>2017</td>\n",
       "      <td>2</td>\n",
       "      <td>2017-02-10</td>\n",
       "      <td>2017-02-13</td>\n",
       "      <td>NaN</td>\n",
       "      <td>4</td>\n",
       "      <td>3500116</td>\n",
       "      <td>...</td>\n",
       "      <td>NaN</td>\n",
       "      <td>NaN</td>\n",
       "      <td>NaN</td>\n",
       "      <td>123.0</td>\n",
       "      <td>64.0</td>\n",
       "      <td>95.0</td>\n",
       "      <td>1.0</td>\n",
       "      <td>1.0</td>\n",
       "      <td>96.000000</td>\n",
       "      <td>60.666668</td>\n",
       "    </tr>\n",
       "    <tr>\n",
       "      <th>2</th>\n",
       "      <td>b8fcbb48-4093-4af2-8b2d-ef0a71700b8b</td>\n",
       "      <td>43624780</td>\n",
       "      <td>001C000001ZalFqIAJ</td>\n",
       "      <td>2017</td>\n",
       "      <td>2</td>\n",
       "      <td>2017-02-16</td>\n",
       "      <td>2017-02-19</td>\n",
       "      <td>NaN</td>\n",
       "      <td>4</td>\n",
       "      <td>3500179</td>\n",
       "      <td>...</td>\n",
       "      <td>NaN</td>\n",
       "      <td>NaN</td>\n",
       "      <td>NaN</td>\n",
       "      <td>2888.0</td>\n",
       "      <td>1550.0</td>\n",
       "      <td>2495.0</td>\n",
       "      <td>1.0</td>\n",
       "      <td>1.0</td>\n",
       "      <td>22.333334</td>\n",
       "      <td>66.666664</td>\n",
       "    </tr>\n",
       "    <tr>\n",
       "      <th>3</th>\n",
       "      <td>b9043a56-193a-4cbf-bd6a-e608acdd36af</td>\n",
       "      <td>43632667</td>\n",
       "      <td>001C000001ZTkrZIAT</td>\n",
       "      <td>2017</td>\n",
       "      <td>2</td>\n",
       "      <td>2017-02-22</td>\n",
       "      <td>2017-02-21</td>\n",
       "      <td>NaN</td>\n",
       "      <td>0</td>\n",
       "      <td>3500021</td>\n",
       "      <td>...</td>\n",
       "      <td>NaN</td>\n",
       "      <td>NaN</td>\n",
       "      <td>NaN</td>\n",
       "      <td>292.0</td>\n",
       "      <td>623.0</td>\n",
       "      <td>624.0</td>\n",
       "      <td>1.0</td>\n",
       "      <td>1.0</td>\n",
       "      <td>34.875000</td>\n",
       "      <td>36.375000</td>\n",
       "    </tr>\n",
       "    <tr>\n",
       "      <th>4</th>\n",
       "      <td>b90c37fa-4375-4f52-b406-5722717152c9</td>\n",
       "      <td>43614626</td>\n",
       "      <td>001C000001ZZwFjIAL</td>\n",
       "      <td>2017</td>\n",
       "      <td>2</td>\n",
       "      <td>2017-02-08</td>\n",
       "      <td>2017-02-11</td>\n",
       "      <td>NaN</td>\n",
       "      <td>4</td>\n",
       "      <td>3500161</td>\n",
       "      <td>...</td>\n",
       "      <td>NaN</td>\n",
       "      <td>NaN</td>\n",
       "      <td>NaN</td>\n",
       "      <td>26195.0</td>\n",
       "      <td>1815.0</td>\n",
       "      <td>3240.0</td>\n",
       "      <td>1.0</td>\n",
       "      <td>1.0</td>\n",
       "      <td>183.500000</td>\n",
       "      <td>51.000000</td>\n",
       "    </tr>\n",
       "  </tbody>\n",
       "</table>\n",
       "<p>5 rows × 160 columns</p>\n",
       "</div>"
      ],
      "text/plain": [
       "                              deal_uuid  deal_key               sf_id  \\\n",
       "0  b8f33fe6-4776-4326-984a-071823c0d7dd  43563263  001C000001YfzvGIAR   \n",
       "1  b8fb9088-2dcf-42b1-aa05-ab09018a43e6  43609398  001C000001ZT9XnIAL   \n",
       "2  b8fcbb48-4093-4af2-8b2d-ef0a71700b8b  43624780  001C000001ZalFqIAJ   \n",
       "3  b9043a56-193a-4cbf-bd6a-e608acdd36af  43632667  001C000001ZTkrZIAT   \n",
       "4  b90c37fa-4375-4f52-b406-5722717152c9  43614626  001C000001ZZwFjIAL   \n",
       "\n",
       "   deal_year  deal_month actual_start_date actual_end_date  voucher_age  \\\n",
       "0       2017           1        2017-01-15      2017-01-18          NaN   \n",
       "1       2017           2        2017-02-10      2017-02-13          NaN   \n",
       "2       2017           2        2017-02-16      2017-02-19          NaN   \n",
       "3       2017           2        2017-02-22      2017-02-21          NaN   \n",
       "4       2017           2        2017-02-08      2017-02-11          NaN   \n",
       "\n",
       "   days_ran  division_key  ... market_ly_60_merchant_count  \\\n",
       "0         4       3500034  ...                         NaN   \n",
       "1         4       3500116  ...                         NaN   \n",
       "2         4       3500179  ...                         NaN   \n",
       "3         0       3500021  ...                         NaN   \n",
       "4         4       3500161  ...                         NaN   \n",
       "\n",
       "  market_ly_60_avg_discount market_ly_60_avg_price  sh_365_avg_deal_gb  \\\n",
       "0                       NaN                    NaN                 NaN   \n",
       "1                       NaN                    NaN               123.0   \n",
       "2                       NaN                    NaN              2888.0   \n",
       "3                       NaN                    NaN               292.0   \n",
       "4                       NaN                    NaN             26195.0   \n",
       "\n",
       "   sh_365_avg_udv_30  sh_365_avg_udv_90  sh_365_deal_count  \\\n",
       "0                NaN                NaN                NaN   \n",
       "1               64.0               95.0                1.0   \n",
       "2             1550.0             2495.0                1.0   \n",
       "3              623.0              624.0                1.0   \n",
       "4             1815.0             3240.0                1.0   \n",
       "\n",
       "   sh_365_merchant_count sh_365_avg_discount sh_365_avg_price  \n",
       "0                    NaN                 NaN              NaN  \n",
       "1                    1.0           96.000000        60.666668  \n",
       "2                    1.0           22.333334        66.666664  \n",
       "3                    1.0           34.875000        36.375000  \n",
       "4                    1.0          183.500000        51.000000  \n",
       "\n",
       "[5 rows x 160 columns]"
      ]
     },
     "execution_count": 4,
     "metadata": {},
     "output_type": "execute_result"
    }
   ],
   "source": [
    "train.head()"
   ]
  },
  {
   "cell_type": "code",
   "execution_count": 5,
   "metadata": {},
   "outputs": [],
   "source": [
    "#remove previous performance features \n",
    "#list comprehension\n",
    "keep_ind = ['avg_pp' not in col for col in train.columns]\n",
    "train = train.loc[:, keep_ind]\n",
    "\n",
    "#other approachs \n",
    "#map function to the list \n",
    "#remove_ind = list(map(lambda x: 'avg_pp' not in x, train.columns.tolist()))"
   ]
  },
  {
   "cell_type": "code",
   "execution_count": 6,
   "metadata": {},
   "outputs": [
    {
     "data": {
      "text/plain": [
       "(111379, 141)"
      ]
     },
     "execution_count": 6,
     "metadata": {},
     "output_type": "execute_result"
    }
   ],
   "source": [
    "train.shape"
   ]
  },
  {
   "cell_type": "code",
   "execution_count": 7,
   "metadata": {},
   "outputs": [
    {
     "name": "stderr",
     "output_type": "stream",
     "text": [
      "/Users/rwang/Desktop/Projects/pfboy/op/env/lib/python3.6/site-packages/pandas/core/series.py:853: RuntimeWarning: divide by zero encountered in log\n",
      "  result = getattr(ufunc, method)(*inputs, **kwargs)\n"
     ]
    }
   ],
   "source": [
    "#transfor gb to log_gb\n",
    "# def log_transfer(x):\n",
    "#     if x == 0:\n",
    "#         return 0\n",
    "#     else:\n",
    "#         return np.log(x)\n",
    "# train['log_gb'] = train.gross_bookings.apply(log_transfer)\n",
    "# #np.log is ln and we have np.log10\n",
    "\n",
    "#Other approach \n",
    "#np.where is equivalent to ifelse in R\n",
    "train['log_gb'] = np.where(train.gross_bookings == 0, 0, np.log(train.gross_bookings))"
   ]
  },
  {
   "cell_type": "code",
   "execution_count": 8,
   "metadata": {},
   "outputs": [
    {
     "data": {
      "text/plain": [
       "count    111379.000000\n",
       "mean          6.978241\n",
       "std           2.040110\n",
       "min           0.000000\n",
       "25%           5.480639\n",
       "50%           6.965628\n",
       "75%           8.454040\n",
       "max          15.887263\n",
       "Name: log_gb, dtype: float64"
      ]
     },
     "execution_count": 8,
     "metadata": {},
     "output_type": "execute_result"
    }
   ],
   "source": [
    "train.log_gb.describe()"
   ]
  },
  {
   "cell_type": "code",
   "execution_count": 9,
   "metadata": {},
   "outputs": [
    {
     "data": {
      "image/png": "[encoded data removed]",
      "text/plain": [
       "<Figure size 432x432 with 1 Axes>"
      ]
     },
     "metadata": {
      "needs_background": "light"
     },
     "output_type": "display_data"
    }
   ],
   "source": [
    "#plot log_gb\n",
    "plt.figure(figsize = (6,6))\n",
    "plt.hist(train['log_gb'], bins = 100, density = True, color = 'lightblue')\n",
    "plt.show()\n",
    "# plt.ylabel('Probability')"
   ]
  },
  {
   "cell_type": "code",
   "execution_count": 10,
   "metadata": {},
   "outputs": [],
   "source": [
    "# train['service'].value_counts().reset_index()"
   ]
  },
  {
   "cell_type": "code",
   "execution_count": 11,
   "metadata": {},
   "outputs": [],
   "source": [
    "#When we reset the index, the old index is added as a column, and a new sequential index is used:\n",
    "# train.groupby('service')['deal_uuid'].nunique().reset_index(name = 'count').sort_values(by = 'count')"
   ]
  },
  {
   "cell_type": "code",
   "execution_count": 12,
   "metadata": {},
   "outputs": [],
   "source": [
    "#Merge small pds to other\n",
    "# pds_count = train.groupby('service')['deal_uuid'].count().sort_values(ascending=False)\n",
    "pds_count = train.groupby('service')['deal_uuid'].count().reset_index(name = 'count').sort_values(by = 'count')"
   ]
  },
  {
   "cell_type": "code",
   "execution_count": 13,
   "metadata": {},
   "outputs": [
    {
     "data": {
      "text/html": [
       "<div>\n",
       "<style scoped>\n",
       "    .dataframe tbody tr th:only-of-type {\n",
       "        vertical-align: middle;\n",
       "    }\n",
       "\n",
       "    .dataframe tbody tr th {\n",
       "        vertical-align: top;\n",
       "    }\n",
       "\n",
       "    .dataframe thead th {\n",
       "        text-align: right;\n",
       "    }\n",
       "</style>\n",
       "<table border=\"1\" class=\"dataframe\">\n",
       "  <thead>\n",
       "    <tr style=\"text-align: right;\">\n",
       "      <th></th>\n",
       "      <th>service</th>\n",
       "      <th>count</th>\n",
       "    </tr>\n",
       "  </thead>\n",
       "  <tbody>\n",
       "    <tr>\n",
       "      <th>1374</th>\n",
       "      <td>Safety &amp; Security</td>\n",
       "      <td>1</td>\n",
       "    </tr>\n",
       "    <tr>\n",
       "      <th>787</th>\n",
       "      <td>Handball</td>\n",
       "      <td>1</td>\n",
       "    </tr>\n",
       "    <tr>\n",
       "      <th>278</th>\n",
       "      <td>Cigar Knowledge</td>\n",
       "      <td>1</td>\n",
       "    </tr>\n",
       "    <tr>\n",
       "      <th>277</th>\n",
       "      <td>Churros</td>\n",
       "      <td>1</td>\n",
       "    </tr>\n",
       "    <tr>\n",
       "      <th>276</th>\n",
       "      <td>Christmas Market</td>\n",
       "      <td>1</td>\n",
       "    </tr>\n",
       "  </tbody>\n",
       "</table>\n",
       "</div>"
      ],
      "text/plain": [
       "                service  count\n",
       "1374  Safety & Security      1\n",
       "787            Handball      1\n",
       "278     Cigar Knowledge      1\n",
       "277             Churros      1\n",
       "276    Christmas Market      1"
      ]
     },
     "execution_count": 13,
     "metadata": {},
     "output_type": "execute_result"
    }
   ],
   "source": [
    "pds_count.head()"
   ]
  },
  {
   "cell_type": "code",
   "execution_count": 14,
   "metadata": {},
   "outputs": [
    {
     "name": "stdout",
     "output_type": "stream",
     "text": [
      "<class 'pandas.core.frame.DataFrame'>\n",
      "Int64Index: 1771 entries, 1374 to 571\n",
      "Data columns (total 2 columns):\n",
      "service    1771 non-null object\n",
      "count      1771 non-null int64\n",
      "dtypes: int64(1), object(1)\n",
      "memory usage: 41.5+ KB\n"
     ]
    }
   ],
   "source": [
    "pds_count.info()"
   ]
  },
  {
   "cell_type": "code",
   "execution_count": 15,
   "metadata": {},
   "outputs": [],
   "source": [
    "small_pds = pds_count.loc[pds_count['count'] <= 20,'service'].tolist()\n",
    "small_pds_index = [i in small_pds for i in train.service]\n",
    "train.loc[small_pds_index, 'service'] = 'other'"
   ]
  },
  {
   "cell_type": "code",
   "execution_count": 16,
   "metadata": {},
   "outputs": [
    {
     "data": {
      "text/plain": [
       "deal_uuid                 object\n",
       "deal_key                   int64\n",
       "sf_id                     object\n",
       "deal_year                  int64\n",
       "deal_month                 int64\n",
       "                          ...   \n",
       "sh_365_deal_count        float64\n",
       "sh_365_merchant_count    float64\n",
       "sh_365_avg_discount      float64\n",
       "sh_365_avg_price         float64\n",
       "log_gb                   float64\n",
       "Length: 142, dtype: object"
      ]
     },
     "execution_count": 16,
     "metadata": {},
     "output_type": "execute_result"
    }
   ],
   "source": [
    "train.dtypes"
   ]
  },
  {
   "cell_type": "code",
   "execution_count": 17,
   "metadata": {},
   "outputs": [
    {
     "data": {
      "text/plain": [
       "dtype('O')"
      ]
     },
     "execution_count": 17,
     "metadata": {},
     "output_type": "execute_result"
    }
   ],
   "source": [
    "train.service.dtypes"
   ]
  },
  {
   "cell_type": "code",
   "execution_count": 18,
   "metadata": {},
   "outputs": [
    {
     "data": {
      "text/plain": [
       "deal_uuid                    0\n",
       "deal_key                     0\n",
       "sf_id                        0\n",
       "deal_year                    0\n",
       "deal_month                   0\n",
       "                         ...  \n",
       "sh_365_deal_count        20400\n",
       "sh_365_merchant_count    20400\n",
       "sh_365_avg_discount      20402\n",
       "sh_365_avg_price         20400\n",
       "log_gb                       0\n",
       "Length: 142, dtype: int64"
      ]
     },
     "execution_count": 18,
     "metadata": {},
     "output_type": "execute_result"
    }
   ],
   "source": [
    "train.isnull().sum()"
   ]
  },
  {
   "cell_type": "code",
   "execution_count": 19,
   "metadata": {},
   "outputs": [
    {
     "data": {
      "text/plain": [
       "88"
      ]
     },
     "execution_count": 19,
     "metadata": {},
     "output_type": "execute_result"
    }
   ],
   "source": [
    "#impute missing valutes \n",
    "sum(train.isnull().sum() != 0)"
   ]
  },
  {
   "cell_type": "code",
   "execution_count": 20,
   "metadata": {},
   "outputs": [],
   "source": [
    "# train.columns[train.isnull().sum() != 0].tolist()"
   ]
  },
  {
   "cell_type": "code",
   "execution_count": 21,
   "metadata": {},
   "outputs": [
    {
     "data": {
      "text/html": [
       "<div>\n",
       "<style scoped>\n",
       "    .dataframe tbody tr th:only-of-type {\n",
       "        vertical-align: middle;\n",
       "    }\n",
       "\n",
       "    .dataframe tbody tr th {\n",
       "        vertical-align: top;\n",
       "    }\n",
       "\n",
       "    .dataframe thead th {\n",
       "        text-align: right;\n",
       "    }\n",
       "</style>\n",
       "<table border=\"1\" class=\"dataframe\">\n",
       "  <thead>\n",
       "    <tr style=\"text-align: right;\">\n",
       "      <th></th>\n",
       "      <th>voucher_age</th>\n",
       "      <th>division_permalink</th>\n",
       "      <th>division</th>\n",
       "      <th>peer_group</th>\n",
       "      <th>refund_rate</th>\n",
       "      <th>pds_cat_id</th>\n",
       "      <th>pds_cat_name</th>\n",
       "      <th>service_header_id</th>\n",
       "      <th>service_header</th>\n",
       "      <th>min_retail_price</th>\n",
       "      <th>...</th>\n",
       "      <th>market_ly_60_merchant_count</th>\n",
       "      <th>market_ly_60_avg_discount</th>\n",
       "      <th>market_ly_60_avg_price</th>\n",
       "      <th>sh_365_avg_deal_gb</th>\n",
       "      <th>sh_365_avg_udv_30</th>\n",
       "      <th>sh_365_avg_udv_90</th>\n",
       "      <th>sh_365_deal_count</th>\n",
       "      <th>sh_365_merchant_count</th>\n",
       "      <th>sh_365_avg_discount</th>\n",
       "      <th>sh_365_avg_price</th>\n",
       "    </tr>\n",
       "  </thead>\n",
       "  <tbody>\n",
       "    <tr>\n",
       "      <th>0</th>\n",
       "      <td>NaN</td>\n",
       "      <td>houston</td>\n",
       "      <td>Houston</td>\n",
       "      <td>Group 2</td>\n",
       "      <td>0.000000</td>\n",
       "      <td>b45bfe48-f179-435b-a38b-c23a73e21bb2</td>\n",
       "      <td>Mobile Phone / Smartphone Repair</td>\n",
       "      <td>ce912fbf-c97e-46b5-8809-40b2cb58004e</td>\n",
       "      <td>Electronics Repair</td>\n",
       "      <td>95.00</td>\n",
       "      <td>...</td>\n",
       "      <td>NaN</td>\n",
       "      <td>NaN</td>\n",
       "      <td>NaN</td>\n",
       "      <td>NaN</td>\n",
       "      <td>NaN</td>\n",
       "      <td>NaN</td>\n",
       "      <td>NaN</td>\n",
       "      <td>NaN</td>\n",
       "      <td>NaN</td>\n",
       "      <td>NaN</td>\n",
       "    </tr>\n",
       "    <tr>\n",
       "      <th>1</th>\n",
       "      <td>NaN</td>\n",
       "      <td>charlotte</td>\n",
       "      <td>Charlotte</td>\n",
       "      <td>Group 3</td>\n",
       "      <td>0.200000</td>\n",
       "      <td>8562ec12-4eef-489b-aed8-d4e732d41e27</td>\n",
       "      <td>Yoga</td>\n",
       "      <td>6358b622-f11f-4394-8111-7c33bdf71800</td>\n",
       "      <td>Workout &amp; Fitness</td>\n",
       "      <td>60.00</td>\n",
       "      <td>...</td>\n",
       "      <td>NaN</td>\n",
       "      <td>NaN</td>\n",
       "      <td>NaN</td>\n",
       "      <td>123.0</td>\n",
       "      <td>64.0</td>\n",
       "      <td>95.0</td>\n",
       "      <td>1.0</td>\n",
       "      <td>1.0</td>\n",
       "      <td>96.000000</td>\n",
       "      <td>60.666668</td>\n",
       "    </tr>\n",
       "    <tr>\n",
       "      <th>2</th>\n",
       "      <td>NaN</td>\n",
       "      <td>orange-county</td>\n",
       "      <td>Orange County</td>\n",
       "      <td>Group 2</td>\n",
       "      <td>0.099573</td>\n",
       "      <td>9b1f83bd-d267-48dc-8f08-63b0da320d4e</td>\n",
       "      <td>Exterior &amp; Interior Detail</td>\n",
       "      <td>0820f312-fa36-4d33-9851-d567d2c2adb8</td>\n",
       "      <td>Car Wash / Detail</td>\n",
       "      <td>29.99</td>\n",
       "      <td>...</td>\n",
       "      <td>NaN</td>\n",
       "      <td>NaN</td>\n",
       "      <td>NaN</td>\n",
       "      <td>2888.0</td>\n",
       "      <td>1550.0</td>\n",
       "      <td>2495.0</td>\n",
       "      <td>1.0</td>\n",
       "      <td>1.0</td>\n",
       "      <td>22.333334</td>\n",
       "      <td>66.666664</td>\n",
       "    </tr>\n",
       "    <tr>\n",
       "      <th>3</th>\n",
       "      <td>NaN</td>\n",
       "      <td>albany-capital-region</td>\n",
       "      <td>Albany / Capital Region</td>\n",
       "      <td>Group 5</td>\n",
       "      <td>0.241379</td>\n",
       "      <td>4387ccd5-c9c1-4181-aa8a-2418e75d5f81</td>\n",
       "      <td>Waxing - Brazilian</td>\n",
       "      <td>f1a78b47-9d95-4b6d-9593-bd563f9d7cee</td>\n",
       "      <td>Hair Removal &amp; Epilation</td>\n",
       "      <td>54.00</td>\n",
       "      <td>...</td>\n",
       "      <td>NaN</td>\n",
       "      <td>NaN</td>\n",
       "      <td>NaN</td>\n",
       "      <td>292.0</td>\n",
       "      <td>623.0</td>\n",
       "      <td>624.0</td>\n",
       "      <td>1.0</td>\n",
       "      <td>1.0</td>\n",
       "      <td>34.875000</td>\n",
       "      <td>36.375000</td>\n",
       "    </tr>\n",
       "    <tr>\n",
       "      <th>4</th>\n",
       "      <td>NaN</td>\n",
       "      <td>madison</td>\n",
       "      <td>Madison</td>\n",
       "      <td>Group 4</td>\n",
       "      <td>0.076923</td>\n",
       "      <td>78d00183-d0eb-4865-b755-9c4c0264f546</td>\n",
       "      <td>Skin Care</td>\n",
       "      <td>6f0b410e-7a52-4ea0-b206-b7f85b49c33b</td>\n",
       "      <td>Health &amp; Beauty</td>\n",
       "      <td>149.00</td>\n",
       "      <td>...</td>\n",
       "      <td>NaN</td>\n",
       "      <td>NaN</td>\n",
       "      <td>NaN</td>\n",
       "      <td>26195.0</td>\n",
       "      <td>1815.0</td>\n",
       "      <td>3240.0</td>\n",
       "      <td>1.0</td>\n",
       "      <td>1.0</td>\n",
       "      <td>183.500000</td>\n",
       "      <td>51.000000</td>\n",
       "    </tr>\n",
       "  </tbody>\n",
       "</table>\n",
       "<p>5 rows × 88 columns</p>\n",
       "</div>"
      ],
      "text/plain": [
       "   voucher_age     division_permalink                 division peer_group  \\\n",
       "0          NaN                houston                  Houston    Group 2   \n",
       "1          NaN              charlotte                Charlotte    Group 3   \n",
       "2          NaN          orange-county            Orange County    Group 2   \n",
       "3          NaN  albany-capital-region  Albany / Capital Region    Group 5   \n",
       "4          NaN                madison                  Madison    Group 4   \n",
       "\n",
       "   refund_rate                            pds_cat_id  \\\n",
       "0     0.000000  b45bfe48-f179-435b-a38b-c23a73e21bb2   \n",
       "1     0.200000  8562ec12-4eef-489b-aed8-d4e732d41e27   \n",
       "2     0.099573  9b1f83bd-d267-48dc-8f08-63b0da320d4e   \n",
       "3     0.241379  4387ccd5-c9c1-4181-aa8a-2418e75d5f81   \n",
       "4     0.076923  78d00183-d0eb-4865-b755-9c4c0264f546   \n",
       "\n",
       "                       pds_cat_name                     service_header_id  \\\n",
       "0  Mobile Phone / Smartphone Repair  ce912fbf-c97e-46b5-8809-40b2cb58004e   \n",
       "1                              Yoga  6358b622-f11f-4394-8111-7c33bdf71800   \n",
       "2        Exterior & Interior Detail  0820f312-fa36-4d33-9851-d567d2c2adb8   \n",
       "3                Waxing - Brazilian  f1a78b47-9d95-4b6d-9593-bd563f9d7cee   \n",
       "4                         Skin Care  6f0b410e-7a52-4ea0-b206-b7f85b49c33b   \n",
       "\n",
       "             service_header  min_retail_price  ...  \\\n",
       "0        Electronics Repair             95.00  ...   \n",
       "1         Workout & Fitness             60.00  ...   \n",
       "2         Car Wash / Detail             29.99  ...   \n",
       "3  Hair Removal & Epilation             54.00  ...   \n",
       "4           Health & Beauty            149.00  ...   \n",
       "\n",
       "   market_ly_60_merchant_count  market_ly_60_avg_discount  \\\n",
       "0                          NaN                        NaN   \n",
       "1                          NaN                        NaN   \n",
       "2                          NaN                        NaN   \n",
       "3                          NaN                        NaN   \n",
       "4                          NaN                        NaN   \n",
       "\n",
       "   market_ly_60_avg_price  sh_365_avg_deal_gb  sh_365_avg_udv_30  \\\n",
       "0                     NaN                 NaN                NaN   \n",
       "1                     NaN               123.0               64.0   \n",
       "2                     NaN              2888.0             1550.0   \n",
       "3                     NaN               292.0              623.0   \n",
       "4                     NaN             26195.0             1815.0   \n",
       "\n",
       "   sh_365_avg_udv_90 sh_365_deal_count sh_365_merchant_count  \\\n",
       "0                NaN               NaN                   NaN   \n",
       "1               95.0               1.0                   1.0   \n",
       "2             2495.0               1.0                   1.0   \n",
       "3              624.0               1.0                   1.0   \n",
       "4             3240.0               1.0                   1.0   \n",
       "\n",
       "  sh_365_avg_discount  sh_365_avg_price  \n",
       "0                 NaN               NaN  \n",
       "1           96.000000         60.666668  \n",
       "2           22.333334         66.666664  \n",
       "3           34.875000         36.375000  \n",
       "4          183.500000         51.000000  \n",
       "\n",
       "[5 rows x 88 columns]"
      ]
     },
     "execution_count": 21,
     "metadata": {},
     "output_type": "execute_result"
    }
   ],
   "source": [
    "train.loc[:, train.isnull().sum() != 0].head()"
   ]
  },
  {
   "cell_type": "code",
   "execution_count": 22,
   "metadata": {},
   "outputs": [],
   "source": [
    "missing_columns = train.columns[train.isnull().sum() != 0].tolist()"
   ]
  },
  {
   "cell_type": "code",
   "execution_count": 23,
   "metadata": {},
   "outputs": [],
   "source": [
    "# Filling missing values with median and mode\n",
    "for col in missing_columns:\n",
    "    if train[col].dtype == 'O':\n",
    "        #train.loc[train[col].isnull(),col] = train[col].mode()[0]\n",
    "        train[col] = train[col].fillna(train[col].mode()[0])\n",
    "    else:\n",
    "        #train.loc[train[col].isnull(),col] = np.nanmedian(train[col])\n",
    "        train[col] = train[col].fillna(np.nanmedian(train[col]))\n",
    "        "
   ]
  },
  {
   "cell_type": "code",
   "execution_count": 24,
   "metadata": {},
   "outputs": [
    {
     "data": {
      "text/plain": [
       "deal_uuid                0\n",
       "deal_key                 0\n",
       "sf_id                    0\n",
       "deal_year                0\n",
       "deal_month               0\n",
       "                        ..\n",
       "sh_365_deal_count        0\n",
       "sh_365_merchant_count    0\n",
       "sh_365_avg_discount      0\n",
       "sh_365_avg_price         0\n",
       "log_gb                   0\n",
       "Length: 142, dtype: int64"
      ]
     },
     "execution_count": 24,
     "metadata": {},
     "output_type": "execute_result"
    }
   ],
   "source": [
    "train.isnull().sum()"
   ]
  },
  {
   "cell_type": "code",
   "execution_count": 25,
   "metadata": {},
   "outputs": [
    {
     "data": {
      "text/plain": [
       "0"
      ]
     },
     "execution_count": 25,
     "metadata": {},
     "output_type": "execute_result"
    }
   ],
   "source": [
    "sum(train.apply(lambda x : x == None).sum() != 0)"
   ]
  },
  {
   "cell_type": "code",
   "execution_count": 26,
   "metadata": {},
   "outputs": [
    {
     "data": {
      "text/plain": [
       "deal_uuid                0\n",
       "deal_key                 0\n",
       "sf_id                    0\n",
       "deal_year                0\n",
       "deal_month               0\n",
       "                        ..\n",
       "sh_365_deal_count        0\n",
       "sh_365_merchant_count    0\n",
       "sh_365_avg_discount      0\n",
       "sh_365_avg_price         0\n",
       "log_gb                   0\n",
       "Length: 142, dtype: int64"
      ]
     },
     "execution_count": 26,
     "metadata": {},
     "output_type": "execute_result"
    }
   ],
   "source": [
    "train.apply(lambda x : x == None).sum()"
   ]
  },
  {
   "cell_type": "markdown",
   "metadata": {},
   "source": [
    "### Build first stage gbm model"
   ]
  },
  {
   "cell_type": "code",
   "execution_count": 27,
   "metadata": {},
   "outputs": [],
   "source": [
    "category = ['division','service_header','service','competitor_name','log_gb']\n",
    "train_c = train.loc[:, category]"
   ]
  },
  {
   "cell_type": "code",
   "execution_count": 28,
   "metadata": {},
   "outputs": [
    {
     "data": {
      "text/html": [
       "<div>\n",
       "<style scoped>\n",
       "    .dataframe tbody tr th:only-of-type {\n",
       "        vertical-align: middle;\n",
       "    }\n",
       "\n",
       "    .dataframe tbody tr th {\n",
       "        vertical-align: top;\n",
       "    }\n",
       "\n",
       "    .dataframe thead th {\n",
       "        text-align: right;\n",
       "    }\n",
       "</style>\n",
       "<table border=\"1\" class=\"dataframe\">\n",
       "  <thead>\n",
       "    <tr style=\"text-align: right;\">\n",
       "      <th></th>\n",
       "      <th>division</th>\n",
       "      <th>service_header</th>\n",
       "      <th>service</th>\n",
       "      <th>competitor_name</th>\n",
       "      <th>log_gb</th>\n",
       "    </tr>\n",
       "  </thead>\n",
       "  <tbody>\n",
       "    <tr>\n",
       "      <th>0</th>\n",
       "      <td>Houston</td>\n",
       "      <td>Electronics Repair</td>\n",
       "      <td>Mobile Phone / Smartphone Repair</td>\n",
       "      <td>LS</td>\n",
       "      <td>4.248495</td>\n",
       "    </tr>\n",
       "    <tr>\n",
       "      <th>1</th>\n",
       "      <td>Charlotte</td>\n",
       "      <td>Workout &amp; Fitness</td>\n",
       "      <td>Yoga</td>\n",
       "      <td>LS</td>\n",
       "      <td>6.811795</td>\n",
       "    </tr>\n",
       "    <tr>\n",
       "      <th>2</th>\n",
       "      <td>Orange County</td>\n",
       "      <td>Car Wash / Detail</td>\n",
       "      <td>Exterior &amp; Interior Detail</td>\n",
       "      <td>LS</td>\n",
       "      <td>10.695122</td>\n",
       "    </tr>\n",
       "    <tr>\n",
       "      <th>3</th>\n",
       "      <td>Albany / Capital Region</td>\n",
       "      <td>Hair Removal &amp; Epilation</td>\n",
       "      <td>Waxing - Brazilian</td>\n",
       "      <td>LS</td>\n",
       "      <td>7.902303</td>\n",
       "    </tr>\n",
       "    <tr>\n",
       "      <th>4</th>\n",
       "      <td>Madison</td>\n",
       "      <td>Health &amp; Beauty</td>\n",
       "      <td>Skin Care</td>\n",
       "      <td>LS</td>\n",
       "      <td>6.075185</td>\n",
       "    </tr>\n",
       "  </tbody>\n",
       "</table>\n",
       "</div>"
      ],
      "text/plain": [
       "                  division            service_header  \\\n",
       "0                  Houston        Electronics Repair   \n",
       "1                Charlotte         Workout & Fitness   \n",
       "2            Orange County         Car Wash / Detail   \n",
       "3  Albany / Capital Region  Hair Removal & Epilation   \n",
       "4                  Madison           Health & Beauty   \n",
       "\n",
       "                            service competitor_name     log_gb  \n",
       "0  Mobile Phone / Smartphone Repair              LS   4.248495  \n",
       "1                              Yoga              LS   6.811795  \n",
       "2        Exterior & Interior Detail              LS  10.695122  \n",
       "3                Waxing - Brazilian              LS   7.902303  \n",
       "4                         Skin Care              LS   6.075185  "
      ]
     },
     "execution_count": 28,
     "metadata": {},
     "output_type": "execute_result"
    }
   ],
   "source": [
    "train_c.head()"
   ]
  },
  {
   "cell_type": "code",
   "execution_count": 29,
   "metadata": {},
   "outputs": [
    {
     "data": {
      "text/plain": [
       "division           0\n",
       "service_header     0\n",
       "service            0\n",
       "competitor_name    0\n",
       "log_gb             0\n",
       "dtype: int64"
      ]
     },
     "execution_count": 29,
     "metadata": {},
     "output_type": "execute_result"
    }
   ],
   "source": [
    "train_c.isnull().sum()"
   ]
  },
  {
   "cell_type": "code",
   "execution_count": 30,
   "metadata": {},
   "outputs": [
    {
     "name": "stdout",
     "output_type": "stream",
     "text": [
      "<class 'pandas.core.frame.DataFrame'>\n",
      "RangeIndex: 111379 entries, 0 to 111378\n",
      "Data columns (total 5 columns):\n",
      "division           111379 non-null object\n",
      "service_header     111379 non-null object\n",
      "service            111379 non-null object\n",
      "competitor_name    111379 non-null object\n",
      "log_gb             111379 non-null float64\n",
      "dtypes: float64(1), object(4)\n",
      "memory usage: 4.2+ MB\n"
     ]
    }
   ],
   "source": [
    "train_c.info()"
   ]
  },
  {
   "cell_type": "code",
   "execution_count": 31,
   "metadata": {},
   "outputs": [],
   "source": [
    "X = train_c.iloc[:,: -1]\n",
    "y = train_c.iloc[:,-1]"
   ]
  },
  {
   "cell_type": "code",
   "execution_count": 32,
   "metadata": {},
   "outputs": [
    {
     "data": {
      "text/html": [
       "<div>\n",
       "<style scoped>\n",
       "    .dataframe tbody tr th:only-of-type {\n",
       "        vertical-align: middle;\n",
       "    }\n",
       "\n",
       "    .dataframe tbody tr th {\n",
       "        vertical-align: top;\n",
       "    }\n",
       "\n",
       "    .dataframe thead th {\n",
       "        text-align: right;\n",
       "    }\n",
       "</style>\n",
       "<table border=\"1\" class=\"dataframe\">\n",
       "  <thead>\n",
       "    <tr style=\"text-align: right;\">\n",
       "      <th></th>\n",
       "      <th>division</th>\n",
       "      <th>service_header</th>\n",
       "      <th>service</th>\n",
       "      <th>competitor_name</th>\n",
       "    </tr>\n",
       "  </thead>\n",
       "  <tbody>\n",
       "    <tr>\n",
       "      <th>0</th>\n",
       "      <td>Houston</td>\n",
       "      <td>Electronics Repair</td>\n",
       "      <td>Mobile Phone / Smartphone Repair</td>\n",
       "      <td>LS</td>\n",
       "    </tr>\n",
       "    <tr>\n",
       "      <th>1</th>\n",
       "      <td>Charlotte</td>\n",
       "      <td>Workout &amp; Fitness</td>\n",
       "      <td>Yoga</td>\n",
       "      <td>LS</td>\n",
       "    </tr>\n",
       "    <tr>\n",
       "      <th>2</th>\n",
       "      <td>Orange County</td>\n",
       "      <td>Car Wash / Detail</td>\n",
       "      <td>Exterior &amp; Interior Detail</td>\n",
       "      <td>LS</td>\n",
       "    </tr>\n",
       "    <tr>\n",
       "      <th>3</th>\n",
       "      <td>Albany / Capital Region</td>\n",
       "      <td>Hair Removal &amp; Epilation</td>\n",
       "      <td>Waxing - Brazilian</td>\n",
       "      <td>LS</td>\n",
       "    </tr>\n",
       "    <tr>\n",
       "      <th>4</th>\n",
       "      <td>Madison</td>\n",
       "      <td>Health &amp; Beauty</td>\n",
       "      <td>Skin Care</td>\n",
       "      <td>LS</td>\n",
       "    </tr>\n",
       "  </tbody>\n",
       "</table>\n",
       "</div>"
      ],
      "text/plain": [
       "                  division            service_header  \\\n",
       "0                  Houston        Electronics Repair   \n",
       "1                Charlotte         Workout & Fitness   \n",
       "2            Orange County         Car Wash / Detail   \n",
       "3  Albany / Capital Region  Hair Removal & Epilation   \n",
       "4                  Madison           Health & Beauty   \n",
       "\n",
       "                            service competitor_name  \n",
       "0  Mobile Phone / Smartphone Repair              LS  \n",
       "1                              Yoga              LS  \n",
       "2        Exterior & Interior Detail              LS  \n",
       "3                Waxing - Brazilian              LS  \n",
       "4                         Skin Care              LS  "
      ]
     },
     "execution_count": 32,
     "metadata": {},
     "output_type": "execute_result"
    }
   ],
   "source": [
    "X.head()"
   ]
  },
  {
   "cell_type": "code",
   "execution_count": 33,
   "metadata": {},
   "outputs": [
    {
     "data": {
      "text/plain": [
       "0     4.248495\n",
       "1     6.811795\n",
       "2    10.695122\n",
       "3     7.902303\n",
       "4     6.075185\n",
       "Name: log_gb, dtype: float64"
      ]
     },
     "execution_count": 33,
     "metadata": {},
     "output_type": "execute_result"
    }
   ],
   "source": [
    "y.head()"
   ]
  },
  {
   "cell_type": "code",
   "execution_count": 34,
   "metadata": {},
   "outputs": [],
   "source": [
    "#import packages \n",
    "from sklearn.ensemble import GradientBoostingRegressor\n",
    "from sklearn.model_selection import cross_validate #Additional scklearn functions\n",
    "from sklearn.model_selection import GridSearchCV #Perforing grid search\n",
    "from sklearn.preprocessing import OneHotEncoder\n",
    "from sklearn.preprocessing import LabelEncoder\n",
    "from sklearn.model_selection import train_test_split"
   ]
  },
  {
   "cell_type": "markdown",
   "metadata": {},
   "source": [
    "#### Apply one hot encoding on categorical features \n",
    "\n",
    "##### 1. Getting Dummies\n",
    "\n",
    "https://pandas.pydata.org/pandas-docs/stable/reference/api/pandas.get_dummies.html\n",
    "* input: panda dataframe\n",
    "* output: panda dataframe"
   ]
  },
  {
   "cell_type": "code",
   "execution_count": 35,
   "metadata": {},
   "outputs": [],
   "source": [
    "X_dummy = pd.get_dummies(X)"
   ]
  },
  {
   "cell_type": "code",
   "execution_count": 36,
   "metadata": {},
   "outputs": [
    {
     "data": {
      "text/html": [
       "<div>\n",
       "<style scoped>\n",
       "    .dataframe tbody tr th:only-of-type {\n",
       "        vertical-align: middle;\n",
       "    }\n",
       "\n",
       "    .dataframe tbody tr th {\n",
       "        vertical-align: top;\n",
       "    }\n",
       "\n",
       "    .dataframe thead th {\n",
       "        text-align: right;\n",
       "    }\n",
       "</style>\n",
       "<table border=\"1\" class=\"dataframe\">\n",
       "  <thead>\n",
       "    <tr style=\"text-align: right;\">\n",
       "      <th></th>\n",
       "      <th>division_Abbotsford</th>\n",
       "      <th>division_Abilene, TX</th>\n",
       "      <th>division_Akron / Canton</th>\n",
       "      <th>division_Albany / Capital Region</th>\n",
       "      <th>division_Albuquerque</th>\n",
       "      <th>division_Allentown / Reading</th>\n",
       "      <th>division_Amarillo</th>\n",
       "      <th>division_Anchorage</th>\n",
       "      <th>division_Ann Arbor</th>\n",
       "      <th>division_Asheville</th>\n",
       "      <th>...</th>\n",
       "      <th>competitor_name_Urban Deal Lite</th>\n",
       "      <th>competitor_name_Voicedealoftheday</th>\n",
       "      <th>competitor_name_Wagjag</th>\n",
       "      <th>competitor_name_Yelp</th>\n",
       "      <th>competitor_name_Yollar</th>\n",
       "      <th>competitor_name_Yourbestdeals</th>\n",
       "      <th>competitor_name_Zozi</th>\n",
       "      <th>competitor_name_Zulily</th>\n",
       "      <th>competitor_name_delivery</th>\n",
       "      <th>competitor_name_nopuorG</th>\n",
       "    </tr>\n",
       "  </thead>\n",
       "  <tbody>\n",
       "    <tr>\n",
       "      <th>0</th>\n",
       "      <td>0</td>\n",
       "      <td>0</td>\n",
       "      <td>0</td>\n",
       "      <td>0</td>\n",
       "      <td>0</td>\n",
       "      <td>0</td>\n",
       "      <td>0</td>\n",
       "      <td>0</td>\n",
       "      <td>0</td>\n",
       "      <td>0</td>\n",
       "      <td>...</td>\n",
       "      <td>0</td>\n",
       "      <td>0</td>\n",
       "      <td>0</td>\n",
       "      <td>0</td>\n",
       "      <td>0</td>\n",
       "      <td>0</td>\n",
       "      <td>0</td>\n",
       "      <td>0</td>\n",
       "      <td>0</td>\n",
       "      <td>0</td>\n",
       "    </tr>\n",
       "    <tr>\n",
       "      <th>1</th>\n",
       "      <td>0</td>\n",
       "      <td>0</td>\n",
       "      <td>0</td>\n",
       "      <td>0</td>\n",
       "      <td>0</td>\n",
       "      <td>0</td>\n",
       "      <td>0</td>\n",
       "      <td>0</td>\n",
       "      <td>0</td>\n",
       "      <td>0</td>\n",
       "      <td>...</td>\n",
       "      <td>0</td>\n",
       "      <td>0</td>\n",
       "      <td>0</td>\n",
       "      <td>0</td>\n",
       "      <td>0</td>\n",
       "      <td>0</td>\n",
       "      <td>0</td>\n",
       "      <td>0</td>\n",
       "      <td>0</td>\n",
       "      <td>0</td>\n",
       "    </tr>\n",
       "    <tr>\n",
       "      <th>2</th>\n",
       "      <td>0</td>\n",
       "      <td>0</td>\n",
       "      <td>0</td>\n",
       "      <td>0</td>\n",
       "      <td>0</td>\n",
       "      <td>0</td>\n",
       "      <td>0</td>\n",
       "      <td>0</td>\n",
       "      <td>0</td>\n",
       "      <td>0</td>\n",
       "      <td>...</td>\n",
       "      <td>0</td>\n",
       "      <td>0</td>\n",
       "      <td>0</td>\n",
       "      <td>0</td>\n",
       "      <td>0</td>\n",
       "      <td>0</td>\n",
       "      <td>0</td>\n",
       "      <td>0</td>\n",
       "      <td>0</td>\n",
       "      <td>0</td>\n",
       "    </tr>\n",
       "    <tr>\n",
       "      <th>3</th>\n",
       "      <td>0</td>\n",
       "      <td>0</td>\n",
       "      <td>0</td>\n",
       "      <td>1</td>\n",
       "      <td>0</td>\n",
       "      <td>0</td>\n",
       "      <td>0</td>\n",
       "      <td>0</td>\n",
       "      <td>0</td>\n",
       "      <td>0</td>\n",
       "      <td>...</td>\n",
       "      <td>0</td>\n",
       "      <td>0</td>\n",
       "      <td>0</td>\n",
       "      <td>0</td>\n",
       "      <td>0</td>\n",
       "      <td>0</td>\n",
       "      <td>0</td>\n",
       "      <td>0</td>\n",
       "      <td>0</td>\n",
       "      <td>0</td>\n",
       "    </tr>\n",
       "    <tr>\n",
       "      <th>4</th>\n",
       "      <td>0</td>\n",
       "      <td>0</td>\n",
       "      <td>0</td>\n",
       "      <td>0</td>\n",
       "      <td>0</td>\n",
       "      <td>0</td>\n",
       "      <td>0</td>\n",
       "      <td>0</td>\n",
       "      <td>0</td>\n",
       "      <td>0</td>\n",
       "      <td>...</td>\n",
       "      <td>0</td>\n",
       "      <td>0</td>\n",
       "      <td>0</td>\n",
       "      <td>0</td>\n",
       "      <td>0</td>\n",
       "      <td>0</td>\n",
       "      <td>0</td>\n",
       "      <td>0</td>\n",
       "      <td>0</td>\n",
       "      <td>0</td>\n",
       "    </tr>\n",
       "  </tbody>\n",
       "</table>\n",
       "<p>5 rows × 1043 columns</p>\n",
       "</div>"
      ],
      "text/plain": [
       "   division_Abbotsford  division_Abilene, TX  division_Akron / Canton  \\\n",
       "0                    0                     0                        0   \n",
       "1                    0                     0                        0   \n",
       "2                    0                     0                        0   \n",
       "3                    0                     0                        0   \n",
       "4                    0                     0                        0   \n",
       "\n",
       "   division_Albany / Capital Region  division_Albuquerque  \\\n",
       "0                                 0                     0   \n",
       "1                                 0                     0   \n",
       "2                                 0                     0   \n",
       "3                                 1                     0   \n",
       "4                                 0                     0   \n",
       "\n",
       "   division_Allentown / Reading  division_Amarillo  division_Anchorage  \\\n",
       "0                             0                  0                   0   \n",
       "1                             0                  0                   0   \n",
       "2                             0                  0                   0   \n",
       "3                             0                  0                   0   \n",
       "4                             0                  0                   0   \n",
       "\n",
       "   division_Ann Arbor  division_Asheville  ...  \\\n",
       "0                   0                   0  ...   \n",
       "1                   0                   0  ...   \n",
       "2                   0                   0  ...   \n",
       "3                   0                   0  ...   \n",
       "4                   0                   0  ...   \n",
       "\n",
       "   competitor_name_Urban Deal Lite  competitor_name_Voicedealoftheday  \\\n",
       "0                                0                                  0   \n",
       "1                                0                                  0   \n",
       "2                                0                                  0   \n",
       "3                                0                                  0   \n",
       "4                                0                                  0   \n",
       "\n",
       "   competitor_name_Wagjag  competitor_name_Yelp  competitor_name_Yollar  \\\n",
       "0                       0                     0                       0   \n",
       "1                       0                     0                       0   \n",
       "2                       0                     0                       0   \n",
       "3                       0                     0                       0   \n",
       "4                       0                     0                       0   \n",
       "\n",
       "   competitor_name_Yourbestdeals  competitor_name_Zozi  \\\n",
       "0                              0                     0   \n",
       "1                              0                     0   \n",
       "2                              0                     0   \n",
       "3                              0                     0   \n",
       "4                              0                     0   \n",
       "\n",
       "   competitor_name_Zulily  competitor_name_delivery  competitor_name_nopuorG  \n",
       "0                       0                         0                        0  \n",
       "1                       0                         0                        0  \n",
       "2                       0                         0                        0  \n",
       "3                       0                         0                        0  \n",
       "4                       0                         0                        0  \n",
       "\n",
       "[5 rows x 1043 columns]"
      ]
     },
     "execution_count": 36,
     "metadata": {},
     "output_type": "execute_result"
    }
   ],
   "source": [
    "X_dummy.head()"
   ]
  },
  {
   "cell_type": "code",
   "execution_count": 37,
   "metadata": {},
   "outputs": [],
   "source": [
    "# Getting Dummies from all other categorical vars\n",
    "# for col in X.columns[X.dtypes == 'object']:\n",
    "#     for_dummy = X.pop(col)\n",
    "#     train = pd.concat([X, pd.get_dummies(for_dummy, prefix=col)], axis=1)"
   ]
  },
  {
   "cell_type": "markdown",
   "metadata": {},
   "source": [
    "##### 2.LabelEncoder then OneHotEnoder"
   ]
  },
  {
   "cell_type": "code",
   "execution_count": 38,
   "metadata": {},
   "outputs": [],
   "source": [
    "# le = LabelEncoder()\n",
    "# X = X.apply(lambda x : le.fit_transform(x))"
   ]
  },
  {
   "cell_type": "code",
   "execution_count": 39,
   "metadata": {},
   "outputs": [],
   "source": [
    "# X.head()"
   ]
  },
  {
   "cell_type": "code",
   "execution_count": 40,
   "metadata": {},
   "outputs": [],
   "source": [
    "# ohe = OneHotEncoder(categories='auto', sparse = False)\n",
    "# X = ohe.fit_transform(X)"
   ]
  },
  {
   "cell_type": "code",
   "execution_count": 41,
   "metadata": {},
   "outputs": [],
   "source": [
    "# X.shape"
   ]
  },
  {
   "cell_type": "code",
   "execution_count": 42,
   "metadata": {},
   "outputs": [],
   "source": [
    "#train test split\n",
    "X_train, X_test, y_train, y_test = train_test_split(X_dummy, y, test_size = 0.2, random_state = 1)"
   ]
  },
  {
   "cell_type": "code",
   "execution_count": 43,
   "metadata": {},
   "outputs": [
    {
     "data": {
      "text/plain": [
       "(89103, 1043)"
      ]
     },
     "execution_count": 43,
     "metadata": {},
     "output_type": "execute_result"
    }
   ],
   "source": [
    "X_train.shape"
   ]
  },
  {
   "cell_type": "code",
   "execution_count": 44,
   "metadata": {},
   "outputs": [
    {
     "data": {
      "text/plain": [
       "(22276, 1043)"
      ]
     },
     "execution_count": 44,
     "metadata": {},
     "output_type": "execute_result"
    }
   ],
   "source": [
    "X_test.shape"
   ]
  },
  {
   "cell_type": "markdown",
   "metadata": {},
   "source": [
    "#### Fit a baseline model first \n",
    "https://scikit-learn.org/stable/modules/generated/sklearn.ensemble.GradientBoostingClassifier.html"
   ]
  },
  {
   "cell_type": "code",
   "execution_count": 45,
   "metadata": {},
   "outputs": [
    {
     "data": {
      "text/plain": [
       "GradientBoostingRegressor(alpha=0.9, criterion='friedman_mse', init=None,\n",
       "                          learning_rate=0.1, loss='ls', max_depth=3,\n",
       "                          max_features=None, max_leaf_nodes=None,\n",
       "                          min_impurity_decrease=0.0, min_impurity_split=None,\n",
       "                          min_samples_leaf=1, min_samples_split=2,\n",
       "                          min_weight_fraction_leaf=0.0, n_estimators=100,\n",
       "                          n_iter_no_change=None, presort='auto',\n",
       "                          random_state=10, subsample=1, tol=0.0001,\n",
       "                          validation_fraction=0.1, verbose=0, warm_start=False)"
      ]
     },
     "execution_count": 45,
     "metadata": {},
     "output_type": "execute_result"
    }
   ],
   "source": [
    "baseline = GradientBoostingRegressor(learning_rate=0.1, \n",
    "                                      n_estimators=100,\n",
    "                                      max_depth=3, \n",
    "                                      min_samples_split=2, \n",
    "                                      min_samples_leaf=1, \n",
    "                                      subsample=1,\n",
    "                                      random_state=10)\n",
    "baseline.fit(X_train, y_train)"
   ]
  },
  {
   "cell_type": "code",
   "execution_count": 47,
   "metadata": {},
   "outputs": [],
   "source": [
    "#compute spearman correlation\n",
    "from scipy import stats\n",
    "accuracy = stats.spearmanr(baseline.predict(X_test), y_test)"
   ]
  },
  {
   "cell_type": "code",
   "execution_count": 48,
   "metadata": {},
   "outputs": [
    {
     "data": {
      "text/plain": [
       "0.4547981772212282"
      ]
     },
     "execution_count": 48,
     "metadata": {},
     "output_type": "execute_result"
    }
   ],
   "source": [
    "accuracy[0]"
   ]
  },
  {
   "cell_type": "markdown",
   "metadata": {},
   "source": [
    "#### feature importance"
   ]
  },
  {
   "cell_type": "code",
   "execution_count": 49,
   "metadata": {},
   "outputs": [
    {
     "name": "stdout",
     "output_type": "stream",
     "text": [
      "Accuracy of the GBM on test set: 0.455\n"
     ]
    },
    {
     "data": {
      "image/png": "[encoded data removed]",
      "text/plain": [
       "<Figure size 432x288 with 1 Axes>"
      ]
     },
     "metadata": {
      "needs_background": "light"
     },
     "output_type": "display_data"
    }
   ],
   "source": [
    "predictors=list(X_train)\n",
    "feat_imp = pd.Series(baseline.feature_importances_, predictors).sort_values(ascending=False)\n",
    "feat_imp[:10].plot(kind='bar', title='Importance of Features')\n",
    "plt.ylabel('Feature Importance Score')\n",
    "accuracy = stats.spearmanr(baseline.predict(X_test), y_test)\n",
    "print('Accuracy of the GBM on test set: {:.3f}'.format(accuracy[0]))"
   ]
  },
  {
   "cell_type": "markdown",
   "metadata": {},
   "source": [
    "#### parameter tuning"
   ]
  },
  {
   "cell_type": "markdown",
   "metadata": {},
   "source": [
    "##### 1. for loop function"
   ]
  },
  {
   "cell_type": "code",
   "execution_count": 50,
   "metadata": {},
   "outputs": [],
   "source": [
    "n_estimators = [100, 200, 400]\n",
    "learning_rate = [0.01, 0.05, 0.1, 0.2] \n",
    "min_samples_leaf = 10\n",
    "max_depth = 2\n",
    "estimators = []\n",
    "rate = []\n",
    "train_results = []\n",
    "test_results = []\n",
    "results = pd.DataFrame()\n",
    "\n",
    "for n in n_estimators:\n",
    "    for l in learning_rate:\n",
    "        params = {\n",
    "            'n_estimators': n,\n",
    "            'learning_rate': l,\n",
    "            'min_samples_leaf': 10,\n",
    "            'max_depth': 2\n",
    "        }\n",
    "        gradient_boosting_regressor = GradientBoostingRegressor(**params)\n",
    "        gradient_boosting_regressor.fit(X_train, y_train)\n",
    "        y_test_pred = gradient_boosting_regressor.predict(X_test)\n",
    "        y_train_pred = gradient_boosting_regressor.predict(X_train)\n",
    "        estimators.append(n)\n",
    "        rate.append(l)\n",
    "        train_results.append(stats.spearmanr(y_test_pred, y_test)[0])\n",
    "        test_results.append(stats.spearmanr(y_train_pred, y_train)[0])\n",
    "# Append columns to the Empty DataFrame\n",
    "results['n_estimators'] = estimators\n",
    "results['learning_rate'] = rate\n",
    "results['train_results'] = train_results\n",
    "results['test_results'] = test_results    \n",
    "results "
   ]
  },
  {
   "cell_type": "code",
   "execution_count": 53,
   "metadata": {},
   "outputs": [
    {
     "data": {
      "text/plain": [
       "GradientBoostingRegressor(alpha=0.9, criterion='mse', init=None,\n",
       "                          learning_rate=0.2, loss='ls', max_depth=2,\n",
       "                          max_features=None, max_leaf_nodes=None,\n",
       "                          min_impurity_decrease=0.0, min_impurity_split=None,\n",
       "                          min_samples_leaf=10, min_samples_split=2,\n",
       "                          min_weight_fraction_leaf=0.0, n_estimators=400,\n",
       "                          n_iter_no_change=None, presort='auto',\n",
       "                          random_state=None, subsample=1.0, tol=0.0001,\n",
       "                          validation_fraction=0.1, verbose=0, warm_start=False)"
      ]
     },
     "execution_count": 53,
     "metadata": {},
     "output_type": "execute_result"
    }
   ],
   "source": [
    "optimal_params = {\n",
    "    'n_estimators': 400,\n",
    "    'learning_rate': 0.20,\n",
    "    'min_samples_leaf' : 10,\n",
    "    'max_depth' : 2,\n",
    "    'criterion': 'mse'\n",
    "}\n",
    "\n",
    "# n.trees = 200 interaction.depth = 2 shrinkage = 0.1\n",
    "gradient_boosting_regressor = GradientBoostingRegressor(**optimal_params)\n",
    "\n",
    "gradient_boosting_regressor.fit(X_train, y_train)"
   ]
  },
  {
   "cell_type": "markdown",
   "metadata": {},
   "source": [
    "##### 2.builtin package GridSearchCV"
   ]
  },
  {
   "cell_type": "markdown",
   "metadata": {},
   "source": [
    "https://scikit-learn.org/stable/modules/generated/sklearn.model_selection.GridSearchCV.html\n",
    "\n",
    "https://scikit-learn.org/stable/modules/model_evaluation.html#scoring-parameter\n",
    "\n",
    "https://www.datacareer.ch/blog/parameter-tuning-in-gradient-boosting-gbm-with-python/(parameter tuning example)"
   ]
  },
  {
   "cell_type": "markdown",
   "metadata": {},
   "source": [
    "* tune learning rate and n_estimators"
   ]
  },
  {
   "cell_type": "code",
   "execution_count": 520,
   "metadata": {},
   "outputs": [],
   "source": [
    "p_test = {'learning_rate':[0.15,0.1,0.05,0.01], \n",
    "          'n_estimators':[100,250,500,750,1000,1250,1500,1750]}\n",
    "\n",
    "#Defining your scoring strategy from metric functions\n",
    "from sklearn.metrics import fbeta_score, make_scorer\n",
    "def my_custom_loss_func(y_true, y_pred):\n",
    "    return stats.spearmanr(y_true, y_pred)[0]\n",
    "# score = make_scorer(my_custom_loss_func, greater_is_better = True)\n",
    "\n",
    "tuning = GridSearchCV(estimator = GradientBoostingRegressor(max_depth=4, \n",
    "                                                            min_samples_split=2, \n",
    "                                                            min_samples_leaf=1, \n",
    "                                                            subsample=1,\n",
    "                                                            random_state=10), \n",
    "                      param_grid = p_test, \n",
    "                      scoring = make_scorer(my_custom_loss_func, greater_is_better = True),\n",
    "                      cv = 5)\n",
    "tuning.fit(X_train,y_train)"
   ]
  },
  {
   "cell_type": "code",
   "execution_count": 514,
   "metadata": {},
   "outputs": [
    {
     "data": {
      "text/plain": [
       "{'mean_fit_time': array([5.89661603, 6.16797895]),\n",
       " 'std_fit_time': array([0.15273902, 0.42383488]),\n",
       " 'mean_score_time': array([0.09877696, 0.0871016 ]),\n",
       " 'std_score_time': array([0.01656354, 0.00338848]),\n",
       " 'param_learning_rate': masked_array(data=[0.15, 0.1],\n",
       "              mask=[False, False],\n",
       "        fill_value='?',\n",
       "             dtype=object),\n",
       " 'param_n_estimators': masked_array(data=[1, 1],\n",
       "              mask=[False, False],\n",
       "        fill_value='?',\n",
       "             dtype=object),\n",
       " 'params': [{'learning_rate': 0.15, 'n_estimators': 1},\n",
       "  {'learning_rate': 0.1, 'n_estimators': 1}],\n",
       " 'split0_test_score': array([0.2234734, 0.2234734]),\n",
       " 'split1_test_score': array([0.21887179, 0.21887179]),\n",
       " 'split2_test_score': array([0.21405013, 0.21405013]),\n",
       " 'split3_test_score': array([0.21803762, 0.21803762]),\n",
       " 'split4_test_score': array([0.21931475, 0.21931475]),\n",
       " 'mean_test_score': array([0.21874954, 0.21874954]),\n",
       " 'std_test_score': array([0.00300804, 0.00300804]),\n",
       " 'rank_test_score': array([1, 1], dtype=int32)}"
      ]
     },
     "execution_count": 514,
     "metadata": {},
     "output_type": "execute_result"
    }
   ],
   "source": [
    "tuning.cv_results_"
   ]
  },
  {
   "cell_type": "code",
   "execution_count": 518,
   "metadata": {},
   "outputs": [
    {
     "data": {
      "text/plain": [
       "GradientBoostingRegressor(alpha=0.9, criterion='friedman_mse', init=None,\n",
       "                          learning_rate=0.15, loss='ls', max_depth=4,\n",
       "                          max_features=None, max_leaf_nodes=None,\n",
       "                          min_impurity_decrease=0.0, min_impurity_split=None,\n",
       "                          min_samples_leaf=1, min_samples_split=2,\n",
       "                          min_weight_fraction_leaf=0.0, n_estimators=1,\n",
       "                          n_iter_no_change=None, presort='auto',\n",
       "                          random_state=10, subsample=1, tol=0.0001,\n",
       "                          validation_fraction=0.1, verbose=0, warm_start=False)"
      ]
     },
     "execution_count": 518,
     "metadata": {},
     "output_type": "execute_result"
    }
   ],
   "source": [
    "tuning.best_estimator_"
   ]
  },
  {
   "cell_type": "code",
   "execution_count": 517,
   "metadata": {},
   "outputs": [
    {
     "data": {
      "text/plain": [
       "({'learning_rate': 0.15, 'n_estimators': 1}, 0.2187495375843731)"
      ]
     },
     "execution_count": 517,
     "metadata": {},
     "output_type": "execute_result"
    }
   ],
   "source": [
    "tuning.best_params_, tuning.best_score_"
   ]
  },
  {
   "cell_type": "markdown",
   "metadata": {},
   "source": [
    "* tune max_depth"
   ]
  },
  {
   "cell_type": "code",
   "execution_count": null,
   "metadata": {},
   "outputs": [],
   "source": [
    "p_test2 = {'max_depth':[2,3,4,5,6,7] }\n",
    "tuning = GridSearchCV(estimator = GradientBoostingRegressor(learning_rate=0.01,\n",
    "                                                            n_estimators=1500), \n",
    "                      param_grid = p_test2, \n",
    "                      scoring = make_scorer(my_custom_loss_func, greater_is_better = True),\n",
    "                      cv = 5)\n",
    "tuning.fit(X_train,y_train)\n",
    "tuning.best_params_, tuning.best_score_"
   ]
  },
  {
   "cell_type": "markdown",
   "metadata": {},
   "source": [
    "* final model"
   ]
  },
  {
   "cell_type": "code",
   "execution_count": 521,
   "metadata": {},
   "outputs": [
    {
     "data": {
      "text/plain": [
       "GradientBoostingRegressor(alpha=0.9, criterion='friedman_mse', init=None,\n",
       "                          learning_rate=0.1, loss='ls', max_depth=2,\n",
       "                          max_features=None, max_leaf_nodes=None,\n",
       "                          min_impurity_decrease=0.0, min_impurity_split=None,\n",
       "                          min_samples_leaf=1, min_samples_split=2,\n",
       "                          min_weight_fraction_leaf=0.0, n_estimators=200,\n",
       "                          n_iter_no_change=None, presort='auto',\n",
       "                          random_state=None, subsample=1.0, tol=0.0001,\n",
       "                          validation_fraction=0.1, verbose=0, warm_start=False)"
      ]
     },
     "execution_count": 521,
     "metadata": {},
     "output_type": "execute_result"
    }
   ],
   "source": [
    "model = GradientBoostingRegressor(learning_rate=0.1,\n",
    "                                  n_estimators=200,\n",
    "                                 max_depth = 2)\n",
    "model.fit(X_train, y_train)"
   ]
  },
  {
   "cell_type": "code",
   "execution_count": 522,
   "metadata": {},
   "outputs": [
    {
     "name": "stdout",
     "output_type": "stream",
     "text": [
      "spearman correlation is 0.46365504769935817\n"
     ]
    }
   ],
   "source": [
    "y_pred = model.predict(X_test)\n",
    "from scipy import stats\n",
    "print('spearman correlation is {}'.format(stats.spearmanr(y_pred, y_test)[0]))"
   ]
  },
  {
   "cell_type": "code",
   "execution_count": 523,
   "metadata": {},
   "outputs": [
    {
     "data": {
      "text/plain": [
       "<matplotlib.collections.PathCollection at 0x189f5f5f8>"
      ]
     },
     "execution_count": 523,
     "metadata": {},
     "output_type": "execute_result"
    },
    {
     "data": {
      "image/png": "[encoded data removed]",
      "text/plain": [
       "<Figure size 720x360 with 1 Axes>"
      ]
     },
     "metadata": {
      "needs_background": "light"
     },
     "output_type": "display_data"
    }
   ],
   "source": [
    "plt.figure(figsize=(10, 5))\n",
    "plt.title('Gradient Boosting model (1 estimators, Single tree split)')\n",
    "plt.scatter(y_test, y_pred)\n",
    "# plt.plot(x, gradient_boosting_regressor.predict(x), color='r')\n",
    "# plt.show()"
   ]
  },
  {
   "cell_type": "markdown",
   "metadata": {},
   "source": [
    "### Second stage model"
   ]
  },
  {
   "cell_type": "code",
   "execution_count": 524,
   "metadata": {},
   "outputs": [],
   "source": [
    "train['fs_score'] = model.predict(X_dummy)"
   ]
  },
  {
   "cell_type": "code",
   "execution_count": 531,
   "metadata": {},
   "outputs": [],
   "source": [
    "remove_features = [\"deal_uuid\",\n",
    "                   \"deal_key\",\n",
    "                   \"sf_id\",\n",
    "                    \"deal_year\",\n",
    "                    \"fine_print\",\n",
    "                    \"title_rw\",\n",
    "                    \"division\",\n",
    "                    \"division_key\",\n",
    "                    \"division_permalink\",\n",
    "                    \"refund_rate\",\n",
    "                    \"feature_refeature\",\n",
    "                    \"udv_30\",\n",
    "                    \"udv_90\",\n",
    "                    \"pds_cat_id\",\n",
    "                    \"pds_cat_name\",\n",
    "                    \"service_header_id\",\n",
    "                    \"service\",\n",
    "                    \"service_header\",\n",
    "                    \"runrank\",\n",
    "                    \"first_run\",\n",
    "                    \"service_45\",\n",
    "                    \"hero_model\",\n",
    "                    \"manually_adjusted_gb_value\",\n",
    "                    \"competitor_name\",\n",
    "                    \"gross_bookings\",\n",
    "                  \"actual_start_date\",\n",
    "                  \"actual_end_date\"]"
   ]
  },
  {
   "cell_type": "code",
   "execution_count": 532,
   "metadata": {},
   "outputs": [
    {
     "data": {
      "text/html": [
       "<div>\n",
       "<style scoped>\n",
       "    .dataframe tbody tr th:only-of-type {\n",
       "        vertical-align: middle;\n",
       "    }\n",
       "\n",
       "    .dataframe tbody tr th {\n",
       "        vertical-align: top;\n",
       "    }\n",
       "\n",
       "    .dataframe thead th {\n",
       "        text-align: right;\n",
       "    }\n",
       "</style>\n",
       "<table border=\"1\" class=\"dataframe\">\n",
       "  <thead>\n",
       "    <tr style=\"text-align: right;\">\n",
       "      <th></th>\n",
       "      <th>deal_uuid</th>\n",
       "      <th>deal_key</th>\n",
       "      <th>sf_id</th>\n",
       "      <th>deal_year</th>\n",
       "      <th>deal_month</th>\n",
       "      <th>actual_start_date</th>\n",
       "      <th>actual_end_date</th>\n",
       "      <th>voucher_age</th>\n",
       "      <th>days_ran</th>\n",
       "      <th>division_key</th>\n",
       "      <th>...</th>\n",
       "      <th>market_ly_60_avg_price</th>\n",
       "      <th>sh_365_avg_deal_gb</th>\n",
       "      <th>sh_365_avg_udv_30</th>\n",
       "      <th>sh_365_avg_udv_90</th>\n",
       "      <th>sh_365_deal_count</th>\n",
       "      <th>sh_365_merchant_count</th>\n",
       "      <th>sh_365_avg_discount</th>\n",
       "      <th>sh_365_avg_price</th>\n",
       "      <th>log_gb</th>\n",
       "      <th>fs_score</th>\n",
       "    </tr>\n",
       "  </thead>\n",
       "  <tbody>\n",
       "    <tr>\n",
       "      <th>0</th>\n",
       "      <td>b8f33fe6-4776-4326-984a-071823c0d7dd</td>\n",
       "      <td>43563263</td>\n",
       "      <td>001C000001YfzvGIAR</td>\n",
       "      <td>2017</td>\n",
       "      <td>1</td>\n",
       "      <td>2017-01-15</td>\n",
       "      <td>2017-01-18</td>\n",
       "      <td>66.0</td>\n",
       "      <td>4</td>\n",
       "      <td>3500034</td>\n",
       "      <td>...</td>\n",
       "      <td>60.8375</td>\n",
       "      <td>5651.6</td>\n",
       "      <td>603.818182</td>\n",
       "      <td>1312.764706</td>\n",
       "      <td>18.0</td>\n",
       "      <td>14.0</td>\n",
       "      <td>84.150000</td>\n",
       "      <td>65.451389</td>\n",
       "      <td>4.248495</td>\n",
       "      <td>7.042088</td>\n",
       "    </tr>\n",
       "    <tr>\n",
       "      <th>1</th>\n",
       "      <td>b8fb9088-2dcf-42b1-aa05-ab09018a43e6</td>\n",
       "      <td>43609398</td>\n",
       "      <td>001C000001ZT9XnIAL</td>\n",
       "      <td>2017</td>\n",
       "      <td>2</td>\n",
       "      <td>2017-02-10</td>\n",
       "      <td>2017-02-13</td>\n",
       "      <td>66.0</td>\n",
       "      <td>4</td>\n",
       "      <td>3500116</td>\n",
       "      <td>...</td>\n",
       "      <td>60.8375</td>\n",
       "      <td>123.0</td>\n",
       "      <td>64.000000</td>\n",
       "      <td>95.000000</td>\n",
       "      <td>1.0</td>\n",
       "      <td>1.0</td>\n",
       "      <td>96.000000</td>\n",
       "      <td>60.666668</td>\n",
       "      <td>6.811795</td>\n",
       "      <td>6.804531</td>\n",
       "    </tr>\n",
       "    <tr>\n",
       "      <th>2</th>\n",
       "      <td>b8fcbb48-4093-4af2-8b2d-ef0a71700b8b</td>\n",
       "      <td>43624780</td>\n",
       "      <td>001C000001ZalFqIAJ</td>\n",
       "      <td>2017</td>\n",
       "      <td>2</td>\n",
       "      <td>2017-02-16</td>\n",
       "      <td>2017-02-19</td>\n",
       "      <td>66.0</td>\n",
       "      <td>4</td>\n",
       "      <td>3500179</td>\n",
       "      <td>...</td>\n",
       "      <td>60.8375</td>\n",
       "      <td>2888.0</td>\n",
       "      <td>1550.000000</td>\n",
       "      <td>2495.000000</td>\n",
       "      <td>1.0</td>\n",
       "      <td>1.0</td>\n",
       "      <td>22.333334</td>\n",
       "      <td>66.666664</td>\n",
       "      <td>10.695122</td>\n",
       "      <td>7.042088</td>\n",
       "    </tr>\n",
       "    <tr>\n",
       "      <th>3</th>\n",
       "      <td>b9043a56-193a-4cbf-bd6a-e608acdd36af</td>\n",
       "      <td>43632667</td>\n",
       "      <td>001C000001ZTkrZIAT</td>\n",
       "      <td>2017</td>\n",
       "      <td>2</td>\n",
       "      <td>2017-02-22</td>\n",
       "      <td>2017-02-21</td>\n",
       "      <td>66.0</td>\n",
       "      <td>0</td>\n",
       "      <td>3500021</td>\n",
       "      <td>...</td>\n",
       "      <td>60.8375</td>\n",
       "      <td>292.0</td>\n",
       "      <td>623.000000</td>\n",
       "      <td>624.000000</td>\n",
       "      <td>1.0</td>\n",
       "      <td>1.0</td>\n",
       "      <td>34.875000</td>\n",
       "      <td>36.375000</td>\n",
       "      <td>7.902303</td>\n",
       "      <td>7.042088</td>\n",
       "    </tr>\n",
       "    <tr>\n",
       "      <th>4</th>\n",
       "      <td>b90c37fa-4375-4f52-b406-5722717152c9</td>\n",
       "      <td>43614626</td>\n",
       "      <td>001C000001ZZwFjIAL</td>\n",
       "      <td>2017</td>\n",
       "      <td>2</td>\n",
       "      <td>2017-02-08</td>\n",
       "      <td>2017-02-11</td>\n",
       "      <td>66.0</td>\n",
       "      <td>4</td>\n",
       "      <td>3500161</td>\n",
       "      <td>...</td>\n",
       "      <td>60.8375</td>\n",
       "      <td>26195.0</td>\n",
       "      <td>1815.000000</td>\n",
       "      <td>3240.000000</td>\n",
       "      <td>1.0</td>\n",
       "      <td>1.0</td>\n",
       "      <td>183.500000</td>\n",
       "      <td>51.000000</td>\n",
       "      <td>6.075185</td>\n",
       "      <td>6.532064</td>\n",
       "    </tr>\n",
       "  </tbody>\n",
       "</table>\n",
       "<p>5 rows × 143 columns</p>\n",
       "</div>"
      ],
      "text/plain": [
       "                              deal_uuid  deal_key               sf_id  \\\n",
       "0  b8f33fe6-4776-4326-984a-071823c0d7dd  43563263  001C000001YfzvGIAR   \n",
       "1  b8fb9088-2dcf-42b1-aa05-ab09018a43e6  43609398  001C000001ZT9XnIAL   \n",
       "2  b8fcbb48-4093-4af2-8b2d-ef0a71700b8b  43624780  001C000001ZalFqIAJ   \n",
       "3  b9043a56-193a-4cbf-bd6a-e608acdd36af  43632667  001C000001ZTkrZIAT   \n",
       "4  b90c37fa-4375-4f52-b406-5722717152c9  43614626  001C000001ZZwFjIAL   \n",
       "\n",
       "   deal_year  deal_month actual_start_date actual_end_date  voucher_age  \\\n",
       "0       2017           1        2017-01-15      2017-01-18         66.0   \n",
       "1       2017           2        2017-02-10      2017-02-13         66.0   \n",
       "2       2017           2        2017-02-16      2017-02-19         66.0   \n",
       "3       2017           2        2017-02-22      2017-02-21         66.0   \n",
       "4       2017           2        2017-02-08      2017-02-11         66.0   \n",
       "\n",
       "   days_ran  division_key  ... market_ly_60_avg_price sh_365_avg_deal_gb  \\\n",
       "0         4       3500034  ...                60.8375             5651.6   \n",
       "1         4       3500116  ...                60.8375              123.0   \n",
       "2         4       3500179  ...                60.8375             2888.0   \n",
       "3         0       3500021  ...                60.8375              292.0   \n",
       "4         4       3500161  ...                60.8375            26195.0   \n",
       "\n",
       "  sh_365_avg_udv_30  sh_365_avg_udv_90  sh_365_deal_count  \\\n",
       "0        603.818182        1312.764706               18.0   \n",
       "1         64.000000          95.000000                1.0   \n",
       "2       1550.000000        2495.000000                1.0   \n",
       "3        623.000000         624.000000                1.0   \n",
       "4       1815.000000        3240.000000                1.0   \n",
       "\n",
       "   sh_365_merchant_count  sh_365_avg_discount  sh_365_avg_price     log_gb  \\\n",
       "0                   14.0            84.150000         65.451389   4.248495   \n",
       "1                    1.0            96.000000         60.666668   6.811795   \n",
       "2                    1.0            22.333334         66.666664  10.695122   \n",
       "3                    1.0            34.875000         36.375000   7.902303   \n",
       "4                    1.0           183.500000         51.000000   6.075185   \n",
       "\n",
       "   fs_score  \n",
       "0  7.042088  \n",
       "1  6.804531  \n",
       "2  7.042088  \n",
       "3  7.042088  \n",
       "4  6.532064  \n",
       "\n",
       "[5 rows x 143 columns]"
      ]
     },
     "execution_count": 532,
     "metadata": {},
     "output_type": "execute_result"
    }
   ],
   "source": [
    "train.head()"
   ]
  },
  {
   "cell_type": "code",
   "execution_count": 533,
   "metadata": {},
   "outputs": [],
   "source": [
    "train_new = train.drop(remove_features, axis = 1) "
   ]
  },
  {
   "cell_type": "code",
   "execution_count": 534,
   "metadata": {},
   "outputs": [
    {
     "data": {
      "text/html": [
       "<div>\n",
       "<style scoped>\n",
       "    .dataframe tbody tr th:only-of-type {\n",
       "        vertical-align: middle;\n",
       "    }\n",
       "\n",
       "    .dataframe tbody tr th {\n",
       "        vertical-align: top;\n",
       "    }\n",
       "\n",
       "    .dataframe thead th {\n",
       "        text-align: right;\n",
       "    }\n",
       "</style>\n",
       "<table border=\"1\" class=\"dataframe\">\n",
       "  <thead>\n",
       "    <tr style=\"text-align: right;\">\n",
       "      <th></th>\n",
       "      <th>deal_month</th>\n",
       "      <th>voucher_age</th>\n",
       "      <th>days_ran</th>\n",
       "      <th>peer_group</th>\n",
       "      <th>num_redemption_locations</th>\n",
       "      <th>category</th>\n",
       "      <th>min_unit_price</th>\n",
       "      <th>max_unit_price</th>\n",
       "      <th>average_unit_price</th>\n",
       "      <th>average_margin</th>\n",
       "      <th>...</th>\n",
       "      <th>market_ly_60_avg_price</th>\n",
       "      <th>sh_365_avg_deal_gb</th>\n",
       "      <th>sh_365_avg_udv_30</th>\n",
       "      <th>sh_365_avg_udv_90</th>\n",
       "      <th>sh_365_deal_count</th>\n",
       "      <th>sh_365_merchant_count</th>\n",
       "      <th>sh_365_avg_discount</th>\n",
       "      <th>sh_365_avg_price</th>\n",
       "      <th>log_gb</th>\n",
       "      <th>fs_score</th>\n",
       "    </tr>\n",
       "  </thead>\n",
       "  <tbody>\n",
       "    <tr>\n",
       "      <th>0</th>\n",
       "      <td>1</td>\n",
       "      <td>66.0</td>\n",
       "      <td>4</td>\n",
       "      <td>Group 2</td>\n",
       "      <td>0</td>\n",
       "      <td>Services</td>\n",
       "      <td>32.0</td>\n",
       "      <td>93.0</td>\n",
       "      <td>58.000000</td>\n",
       "      <td>25.678572</td>\n",
       "      <td>...</td>\n",
       "      <td>60.8375</td>\n",
       "      <td>5651.6</td>\n",
       "      <td>603.818182</td>\n",
       "      <td>1312.764706</td>\n",
       "      <td>18.0</td>\n",
       "      <td>14.0</td>\n",
       "      <td>84.150000</td>\n",
       "      <td>65.451389</td>\n",
       "      <td>4.248495</td>\n",
       "      <td>7.042088</td>\n",
       "    </tr>\n",
       "    <tr>\n",
       "      <th>1</th>\n",
       "      <td>2</td>\n",
       "      <td>66.0</td>\n",
       "      <td>4</td>\n",
       "      <td>Group 3</td>\n",
       "      <td>0</td>\n",
       "      <td>Leisure Offers / Activities</td>\n",
       "      <td>29.0</td>\n",
       "      <td>49.0</td>\n",
       "      <td>41.000000</td>\n",
       "      <td>18.933332</td>\n",
       "      <td>...</td>\n",
       "      <td>60.8375</td>\n",
       "      <td>123.0</td>\n",
       "      <td>64.000000</td>\n",
       "      <td>95.000000</td>\n",
       "      <td>1.0</td>\n",
       "      <td>1.0</td>\n",
       "      <td>96.000000</td>\n",
       "      <td>60.666668</td>\n",
       "      <td>6.811795</td>\n",
       "      <td>6.804531</td>\n",
       "    </tr>\n",
       "    <tr>\n",
       "      <th>2</th>\n",
       "      <td>2</td>\n",
       "      <td>66.0</td>\n",
       "      <td>4</td>\n",
       "      <td>Group 2</td>\n",
       "      <td>0</td>\n",
       "      <td>Services</td>\n",
       "      <td>15.0</td>\n",
       "      <td>65.0</td>\n",
       "      <td>40.000000</td>\n",
       "      <td>17.200000</td>\n",
       "      <td>...</td>\n",
       "      <td>60.8375</td>\n",
       "      <td>2888.0</td>\n",
       "      <td>1550.000000</td>\n",
       "      <td>2495.000000</td>\n",
       "      <td>1.0</td>\n",
       "      <td>1.0</td>\n",
       "      <td>22.333334</td>\n",
       "      <td>66.666664</td>\n",
       "      <td>10.695122</td>\n",
       "      <td>7.042088</td>\n",
       "    </tr>\n",
       "    <tr>\n",
       "      <th>3</th>\n",
       "      <td>2</td>\n",
       "      <td>66.0</td>\n",
       "      <td>0</td>\n",
       "      <td>Group 5</td>\n",
       "      <td>0</td>\n",
       "      <td>Beauty / Wellness / Healthcare</td>\n",
       "      <td>34.0</td>\n",
       "      <td>97.5</td>\n",
       "      <td>65.333336</td>\n",
       "      <td>22.860000</td>\n",
       "      <td>...</td>\n",
       "      <td>60.8375</td>\n",
       "      <td>292.0</td>\n",
       "      <td>623.000000</td>\n",
       "      <td>624.000000</td>\n",
       "      <td>1.0</td>\n",
       "      <td>1.0</td>\n",
       "      <td>34.875000</td>\n",
       "      <td>36.375000</td>\n",
       "      <td>7.902303</td>\n",
       "      <td>7.042088</td>\n",
       "    </tr>\n",
       "    <tr>\n",
       "      <th>4</th>\n",
       "      <td>2</td>\n",
       "      <td>66.0</td>\n",
       "      <td>4</td>\n",
       "      <td>Group 4</td>\n",
       "      <td>3</td>\n",
       "      <td>Shopping</td>\n",
       "      <td>28.0</td>\n",
       "      <td>46.0</td>\n",
       "      <td>37.000000</td>\n",
       "      <td>7.950000</td>\n",
       "      <td>...</td>\n",
       "      <td>60.8375</td>\n",
       "      <td>26195.0</td>\n",
       "      <td>1815.000000</td>\n",
       "      <td>3240.000000</td>\n",
       "      <td>1.0</td>\n",
       "      <td>1.0</td>\n",
       "      <td>183.500000</td>\n",
       "      <td>51.000000</td>\n",
       "      <td>6.075185</td>\n",
       "      <td>6.532064</td>\n",
       "    </tr>\n",
       "  </tbody>\n",
       "</table>\n",
       "<p>5 rows × 116 columns</p>\n",
       "</div>"
      ],
      "text/plain": [
       "   deal_month  voucher_age  days_ran peer_group  num_redemption_locations  \\\n",
       "0           1         66.0         4    Group 2                         0   \n",
       "1           2         66.0         4    Group 3                         0   \n",
       "2           2         66.0         4    Group 2                         0   \n",
       "3           2         66.0         0    Group 5                         0   \n",
       "4           2         66.0         4    Group 4                         3   \n",
       "\n",
       "                         category  min_unit_price  max_unit_price  \\\n",
       "0                        Services            32.0            93.0   \n",
       "1     Leisure Offers / Activities            29.0            49.0   \n",
       "2                        Services            15.0            65.0   \n",
       "3  Beauty / Wellness / Healthcare            34.0            97.5   \n",
       "4                        Shopping            28.0            46.0   \n",
       "\n",
       "   average_unit_price  average_margin  ...  market_ly_60_avg_price  \\\n",
       "0           58.000000       25.678572  ...                 60.8375   \n",
       "1           41.000000       18.933332  ...                 60.8375   \n",
       "2           40.000000       17.200000  ...                 60.8375   \n",
       "3           65.333336       22.860000  ...                 60.8375   \n",
       "4           37.000000        7.950000  ...                 60.8375   \n",
       "\n",
       "   sh_365_avg_deal_gb  sh_365_avg_udv_30  sh_365_avg_udv_90  \\\n",
       "0              5651.6         603.818182        1312.764706   \n",
       "1               123.0          64.000000          95.000000   \n",
       "2              2888.0        1550.000000        2495.000000   \n",
       "3               292.0         623.000000         624.000000   \n",
       "4             26195.0        1815.000000        3240.000000   \n",
       "\n",
       "   sh_365_deal_count  sh_365_merchant_count  sh_365_avg_discount  \\\n",
       "0               18.0                   14.0            84.150000   \n",
       "1                1.0                    1.0            96.000000   \n",
       "2                1.0                    1.0            22.333334   \n",
       "3                1.0                    1.0            34.875000   \n",
       "4                1.0                    1.0           183.500000   \n",
       "\n",
       "   sh_365_avg_price     log_gb  fs_score  \n",
       "0         65.451389   4.248495  7.042088  \n",
       "1         60.666668   6.811795  6.804531  \n",
       "2         66.666664  10.695122  7.042088  \n",
       "3         36.375000   7.902303  7.042088  \n",
       "4         51.000000   6.075185  6.532064  \n",
       "\n",
       "[5 rows x 116 columns]"
      ]
     },
     "execution_count": 534,
     "metadata": {},
     "output_type": "execute_result"
    }
   ],
   "source": [
    "train_new.head()"
   ]
  },
  {
   "cell_type": "code",
   "execution_count": 535,
   "metadata": {},
   "outputs": [],
   "source": [
    "#One hot encoding \n",
    "train_new = pd.get_dummies(train_new)"
   ]
  },
  {
   "cell_type": "code",
   "execution_count": 536,
   "metadata": {},
   "outputs": [
    {
     "data": {
      "text/html": [
       "<div>\n",
       "<style scoped>\n",
       "    .dataframe tbody tr th:only-of-type {\n",
       "        vertical-align: middle;\n",
       "    }\n",
       "\n",
       "    .dataframe tbody tr th {\n",
       "        vertical-align: top;\n",
       "    }\n",
       "\n",
       "    .dataframe thead th {\n",
       "        text-align: right;\n",
       "    }\n",
       "</style>\n",
       "<table border=\"1\" class=\"dataframe\">\n",
       "  <thead>\n",
       "    <tr style=\"text-align: right;\">\n",
       "      <th></th>\n",
       "      <th>deal_month</th>\n",
       "      <th>voucher_age</th>\n",
       "      <th>days_ran</th>\n",
       "      <th>num_redemption_locations</th>\n",
       "      <th>min_unit_price</th>\n",
       "      <th>max_unit_price</th>\n",
       "      <th>average_unit_price</th>\n",
       "      <th>average_margin</th>\n",
       "      <th>min_retail_price</th>\n",
       "      <th>max_retail_price</th>\n",
       "      <th>...</th>\n",
       "      <th>region_name_Great Lakes</th>\n",
       "      <th>region_name_Mid Atlantic</th>\n",
       "      <th>region_name_Midwest</th>\n",
       "      <th>region_name_Northeast</th>\n",
       "      <th>region_name_Northwest</th>\n",
       "      <th>region_name_South</th>\n",
       "      <th>region_name_Southeast</th>\n",
       "      <th>region_name_Southwest</th>\n",
       "      <th>divison_type_mulitple division</th>\n",
       "      <th>divison_type_single divison</th>\n",
       "    </tr>\n",
       "  </thead>\n",
       "  <tbody>\n",
       "    <tr>\n",
       "      <th>0</th>\n",
       "      <td>1</td>\n",
       "      <td>66.0</td>\n",
       "      <td>4</td>\n",
       "      <td>0</td>\n",
       "      <td>32.0</td>\n",
       "      <td>93.0</td>\n",
       "      <td>58.000000</td>\n",
       "      <td>25.678572</td>\n",
       "      <td>95.00</td>\n",
       "      <td>140.00</td>\n",
       "      <td>...</td>\n",
       "      <td>0</td>\n",
       "      <td>0</td>\n",
       "      <td>0</td>\n",
       "      <td>0</td>\n",
       "      <td>0</td>\n",
       "      <td>1</td>\n",
       "      <td>0</td>\n",
       "      <td>0</td>\n",
       "      <td>0</td>\n",
       "      <td>1</td>\n",
       "    </tr>\n",
       "    <tr>\n",
       "      <th>1</th>\n",
       "      <td>2</td>\n",
       "      <td>66.0</td>\n",
       "      <td>4</td>\n",
       "      <td>0</td>\n",
       "      <td>29.0</td>\n",
       "      <td>49.0</td>\n",
       "      <td>41.000000</td>\n",
       "      <td>18.933332</td>\n",
       "      <td>60.00</td>\n",
       "      <td>120.00</td>\n",
       "      <td>...</td>\n",
       "      <td>0</td>\n",
       "      <td>1</td>\n",
       "      <td>0</td>\n",
       "      <td>0</td>\n",
       "      <td>0</td>\n",
       "      <td>0</td>\n",
       "      <td>0</td>\n",
       "      <td>0</td>\n",
       "      <td>1</td>\n",
       "      <td>0</td>\n",
       "    </tr>\n",
       "    <tr>\n",
       "      <th>2</th>\n",
       "      <td>2</td>\n",
       "      <td>66.0</td>\n",
       "      <td>4</td>\n",
       "      <td>0</td>\n",
       "      <td>15.0</td>\n",
       "      <td>65.0</td>\n",
       "      <td>40.000000</td>\n",
       "      <td>17.200000</td>\n",
       "      <td>29.99</td>\n",
       "      <td>129.99</td>\n",
       "      <td>...</td>\n",
       "      <td>0</td>\n",
       "      <td>0</td>\n",
       "      <td>0</td>\n",
       "      <td>0</td>\n",
       "      <td>0</td>\n",
       "      <td>0</td>\n",
       "      <td>0</td>\n",
       "      <td>0</td>\n",
       "      <td>1</td>\n",
       "      <td>0</td>\n",
       "    </tr>\n",
       "    <tr>\n",
       "      <th>3</th>\n",
       "      <td>2</td>\n",
       "      <td>66.0</td>\n",
       "      <td>0</td>\n",
       "      <td>0</td>\n",
       "      <td>34.0</td>\n",
       "      <td>97.5</td>\n",
       "      <td>65.333336</td>\n",
       "      <td>22.860000</td>\n",
       "      <td>54.00</td>\n",
       "      <td>162.00</td>\n",
       "      <td>...</td>\n",
       "      <td>0</td>\n",
       "      <td>0</td>\n",
       "      <td>0</td>\n",
       "      <td>1</td>\n",
       "      <td>0</td>\n",
       "      <td>0</td>\n",
       "      <td>0</td>\n",
       "      <td>0</td>\n",
       "      <td>1</td>\n",
       "      <td>0</td>\n",
       "    </tr>\n",
       "    <tr>\n",
       "      <th>4</th>\n",
       "      <td>2</td>\n",
       "      <td>66.0</td>\n",
       "      <td>4</td>\n",
       "      <td>3</td>\n",
       "      <td>28.0</td>\n",
       "      <td>46.0</td>\n",
       "      <td>37.000000</td>\n",
       "      <td>7.950000</td>\n",
       "      <td>149.00</td>\n",
       "      <td>249.00</td>\n",
       "      <td>...</td>\n",
       "      <td>0</td>\n",
       "      <td>0</td>\n",
       "      <td>0</td>\n",
       "      <td>0</td>\n",
       "      <td>0</td>\n",
       "      <td>0</td>\n",
       "      <td>1</td>\n",
       "      <td>0</td>\n",
       "      <td>1</td>\n",
       "      <td>0</td>\n",
       "    </tr>\n",
       "  </tbody>\n",
       "</table>\n",
       "<p>5 rows × 159 columns</p>\n",
       "</div>"
      ],
      "text/plain": [
       "   deal_month  voucher_age  days_ran  num_redemption_locations  \\\n",
       "0           1         66.0         4                         0   \n",
       "1           2         66.0         4                         0   \n",
       "2           2         66.0         4                         0   \n",
       "3           2         66.0         0                         0   \n",
       "4           2         66.0         4                         3   \n",
       "\n",
       "   min_unit_price  max_unit_price  average_unit_price  average_margin  \\\n",
       "0            32.0            93.0           58.000000       25.678572   \n",
       "1            29.0            49.0           41.000000       18.933332   \n",
       "2            15.0            65.0           40.000000       17.200000   \n",
       "3            34.0            97.5           65.333336       22.860000   \n",
       "4            28.0            46.0           37.000000        7.950000   \n",
       "\n",
       "   min_retail_price  max_retail_price  ...  region_name_Great Lakes  \\\n",
       "0             95.00            140.00  ...                        0   \n",
       "1             60.00            120.00  ...                        0   \n",
       "2             29.99            129.99  ...                        0   \n",
       "3             54.00            162.00  ...                        0   \n",
       "4            149.00            249.00  ...                        0   \n",
       "\n",
       "   region_name_Mid Atlantic  region_name_Midwest  region_name_Northeast  \\\n",
       "0                         0                    0                      0   \n",
       "1                         1                    0                      0   \n",
       "2                         0                    0                      0   \n",
       "3                         0                    0                      1   \n",
       "4                         0                    0                      0   \n",
       "\n",
       "   region_name_Northwest  region_name_South  region_name_Southeast  \\\n",
       "0                      0                  1                      0   \n",
       "1                      0                  0                      0   \n",
       "2                      0                  0                      0   \n",
       "3                      0                  0                      0   \n",
       "4                      0                  0                      1   \n",
       "\n",
       "   region_name_Southwest  divison_type_mulitple division  \\\n",
       "0                      0                               0   \n",
       "1                      0                               1   \n",
       "2                      0                               1   \n",
       "3                      0                               1   \n",
       "4                      0                               1   \n",
       "\n",
       "   divison_type_single divison  \n",
       "0                            1  \n",
       "1                            0  \n",
       "2                            0  \n",
       "3                            0  \n",
       "4                            0  \n",
       "\n",
       "[5 rows x 159 columns]"
      ]
     },
     "execution_count": 536,
     "metadata": {},
     "output_type": "execute_result"
    }
   ],
   "source": [
    "train_new.head()"
   ]
  },
  {
   "cell_type": "code",
   "execution_count": 544,
   "metadata": {},
   "outputs": [],
   "source": [
    "X = train_new.iloc[:, :-1]\n",
    "y = train_new['log_gb']"
   ]
  },
  {
   "cell_type": "code",
   "execution_count": 545,
   "metadata": {},
   "outputs": [],
   "source": [
    "X_train, X_test, y_train, y_test = train_test_split(X, y, test_size = 0.2, random_state = 1)"
   ]
  },
  {
   "cell_type": "code",
   "execution_count": 546,
   "metadata": {},
   "outputs": [
    {
     "data": {
      "text/html": [
       "<div>\n",
       "<style scoped>\n",
       "    .dataframe tbody tr th:only-of-type {\n",
       "        vertical-align: middle;\n",
       "    }\n",
       "\n",
       "    .dataframe tbody tr th {\n",
       "        vertical-align: top;\n",
       "    }\n",
       "\n",
       "    .dataframe thead th {\n",
       "        text-align: right;\n",
       "    }\n",
       "</style>\n",
       "<table border=\"1\" class=\"dataframe\">\n",
       "  <thead>\n",
       "    <tr style=\"text-align: right;\">\n",
       "      <th></th>\n",
       "      <th>deal_month</th>\n",
       "      <th>voucher_age</th>\n",
       "      <th>days_ran</th>\n",
       "      <th>num_redemption_locations</th>\n",
       "      <th>min_unit_price</th>\n",
       "      <th>max_unit_price</th>\n",
       "      <th>average_unit_price</th>\n",
       "      <th>average_margin</th>\n",
       "      <th>min_retail_price</th>\n",
       "      <th>max_retail_price</th>\n",
       "      <th>...</th>\n",
       "      <th>region_name_California</th>\n",
       "      <th>region_name_Great Lakes</th>\n",
       "      <th>region_name_Mid Atlantic</th>\n",
       "      <th>region_name_Midwest</th>\n",
       "      <th>region_name_Northeast</th>\n",
       "      <th>region_name_Northwest</th>\n",
       "      <th>region_name_South</th>\n",
       "      <th>region_name_Southeast</th>\n",
       "      <th>region_name_Southwest</th>\n",
       "      <th>divison_type_mulitple division</th>\n",
       "    </tr>\n",
       "  </thead>\n",
       "  <tbody>\n",
       "    <tr>\n",
       "      <th>29845</th>\n",
       "      <td>5</td>\n",
       "      <td>66.0</td>\n",
       "      <td>0</td>\n",
       "      <td>0</td>\n",
       "      <td>6.0</td>\n",
       "      <td>6.0</td>\n",
       "      <td>6.0</td>\n",
       "      <td>3.00</td>\n",
       "      <td>10.0</td>\n",
       "      <td>10.0</td>\n",
       "      <td>...</td>\n",
       "      <td>0</td>\n",
       "      <td>0</td>\n",
       "      <td>0</td>\n",
       "      <td>0</td>\n",
       "      <td>1</td>\n",
       "      <td>0</td>\n",
       "      <td>0</td>\n",
       "      <td>0</td>\n",
       "      <td>0</td>\n",
       "      <td>1</td>\n",
       "    </tr>\n",
       "    <tr>\n",
       "      <th>41601</th>\n",
       "      <td>6</td>\n",
       "      <td>66.0</td>\n",
       "      <td>0</td>\n",
       "      <td>0</td>\n",
       "      <td>27.0</td>\n",
       "      <td>27.0</td>\n",
       "      <td>27.0</td>\n",
       "      <td>13.50</td>\n",
       "      <td>50.0</td>\n",
       "      <td>50.0</td>\n",
       "      <td>...</td>\n",
       "      <td>0</td>\n",
       "      <td>0</td>\n",
       "      <td>0</td>\n",
       "      <td>0</td>\n",
       "      <td>0</td>\n",
       "      <td>0</td>\n",
       "      <td>1</td>\n",
       "      <td>0</td>\n",
       "      <td>0</td>\n",
       "      <td>1</td>\n",
       "    </tr>\n",
       "    <tr>\n",
       "      <th>86476</th>\n",
       "      <td>1</td>\n",
       "      <td>66.0</td>\n",
       "      <td>0</td>\n",
       "      <td>0</td>\n",
       "      <td>62.0</td>\n",
       "      <td>62.0</td>\n",
       "      <td>62.0</td>\n",
       "      <td>31.00</td>\n",
       "      <td>75.0</td>\n",
       "      <td>75.0</td>\n",
       "      <td>...</td>\n",
       "      <td>0</td>\n",
       "      <td>0</td>\n",
       "      <td>1</td>\n",
       "      <td>0</td>\n",
       "      <td>0</td>\n",
       "      <td>0</td>\n",
       "      <td>0</td>\n",
       "      <td>0</td>\n",
       "      <td>0</td>\n",
       "      <td>0</td>\n",
       "    </tr>\n",
       "    <tr>\n",
       "      <th>108579</th>\n",
       "      <td>4</td>\n",
       "      <td>66.0</td>\n",
       "      <td>4</td>\n",
       "      <td>0</td>\n",
       "      <td>119.0</td>\n",
       "      <td>119.0</td>\n",
       "      <td>119.0</td>\n",
       "      <td>33.32</td>\n",
       "      <td>180.0</td>\n",
       "      <td>180.0</td>\n",
       "      <td>...</td>\n",
       "      <td>0</td>\n",
       "      <td>1</td>\n",
       "      <td>0</td>\n",
       "      <td>0</td>\n",
       "      <td>0</td>\n",
       "      <td>0</td>\n",
       "      <td>0</td>\n",
       "      <td>0</td>\n",
       "      <td>0</td>\n",
       "      <td>0</td>\n",
       "    </tr>\n",
       "    <tr>\n",
       "      <th>107462</th>\n",
       "      <td>4</td>\n",
       "      <td>66.0</td>\n",
       "      <td>0</td>\n",
       "      <td>0</td>\n",
       "      <td>12.0</td>\n",
       "      <td>12.0</td>\n",
       "      <td>12.0</td>\n",
       "      <td>6.00</td>\n",
       "      <td>17.0</td>\n",
       "      <td>17.0</td>\n",
       "      <td>...</td>\n",
       "      <td>0</td>\n",
       "      <td>0</td>\n",
       "      <td>0</td>\n",
       "      <td>0</td>\n",
       "      <td>1</td>\n",
       "      <td>0</td>\n",
       "      <td>0</td>\n",
       "      <td>0</td>\n",
       "      <td>0</td>\n",
       "      <td>1</td>\n",
       "    </tr>\n",
       "  </tbody>\n",
       "</table>\n",
       "<p>5 rows × 158 columns</p>\n",
       "</div>"
      ],
      "text/plain": [
       "        deal_month  voucher_age  days_ran  num_redemption_locations  \\\n",
       "29845            5         66.0         0                         0   \n",
       "41601            6         66.0         0                         0   \n",
       "86476            1         66.0         0                         0   \n",
       "108579           4         66.0         4                         0   \n",
       "107462           4         66.0         0                         0   \n",
       "\n",
       "        min_unit_price  max_unit_price  average_unit_price  average_margin  \\\n",
       "29845              6.0             6.0                 6.0            3.00   \n",
       "41601             27.0            27.0                27.0           13.50   \n",
       "86476             62.0            62.0                62.0           31.00   \n",
       "108579           119.0           119.0               119.0           33.32   \n",
       "107462            12.0            12.0                12.0            6.00   \n",
       "\n",
       "        min_retail_price  max_retail_price  ...  region_name_California  \\\n",
       "29845               10.0              10.0  ...                       0   \n",
       "41601               50.0              50.0  ...                       0   \n",
       "86476               75.0              75.0  ...                       0   \n",
       "108579             180.0             180.0  ...                       0   \n",
       "107462              17.0              17.0  ...                       0   \n",
       "\n",
       "        region_name_Great Lakes  region_name_Mid Atlantic  \\\n",
       "29845                         0                         0   \n",
       "41601                         0                         0   \n",
       "86476                         0                         1   \n",
       "108579                        1                         0   \n",
       "107462                        0                         0   \n",
       "\n",
       "        region_name_Midwest  region_name_Northeast  region_name_Northwest  \\\n",
       "29845                     0                      1                      0   \n",
       "41601                     0                      0                      0   \n",
       "86476                     0                      0                      0   \n",
       "108579                    0                      0                      0   \n",
       "107462                    0                      1                      0   \n",
       "\n",
       "        region_name_South  region_name_Southeast  region_name_Southwest  \\\n",
       "29845                   0                      0                      0   \n",
       "41601                   1                      0                      0   \n",
       "86476                   0                      0                      0   \n",
       "108579                  0                      0                      0   \n",
       "107462                  0                      0                      0   \n",
       "\n",
       "        divison_type_mulitple division  \n",
       "29845                                1  \n",
       "41601                                1  \n",
       "86476                                0  \n",
       "108579                               0  \n",
       "107462                               1  \n",
       "\n",
       "[5 rows x 158 columns]"
      ]
     },
     "execution_count": 546,
     "metadata": {},
     "output_type": "execute_result"
    }
   ],
   "source": [
    "X_train.head()"
   ]
  },
  {
   "cell_type": "code",
   "execution_count": 547,
   "metadata": {},
   "outputs": [
    {
     "data": {
      "text/plain": [
       "29845      6.095825\n",
       "41601      3.295837\n",
       "86476      4.820282\n",
       "108579    10.322888\n",
       "107462     3.178054\n",
       "Name: log_gb, dtype: float64"
      ]
     },
     "execution_count": 547,
     "metadata": {},
     "output_type": "execute_result"
    }
   ],
   "source": [
    "y_train.head()"
   ]
  },
  {
   "cell_type": "code",
   "execution_count": 554,
   "metadata": {},
   "outputs": [],
   "source": [
    "import xgboost as xgb\n",
    "# from xgb import xgbRegressor"
   ]
  },
  {
   "cell_type": "code",
   "execution_count": 558,
   "metadata": {},
   "outputs": [
    {
     "name": "stdout",
     "output_type": "stream",
     "text": [
      "[16:01:22] WARNING: src/objective/regression_obj.cu:152: reg:linear is now deprecated in favor of reg:squarederror.\n"
     ]
    },
    {
     "data": {
      "text/plain": [
       "XGBRegressor(base_score=0.5, booster='gbtree', colsample_bylevel=1,\n",
       "             colsample_bynode=1, colsample_bytree=1, criterion='mse', gamma=0,\n",
       "             importance_type='gain', learning_rate=0.1, max_delta_step=0,\n",
       "             max_depth=2, min_child_weight=1, missing=None, n_estimators=1000,\n",
       "             n_jobs=1, nthread=None, objective='reg:linear', random_state=0,\n",
       "             reg_alpha=0, reg_lambda=1, scale_pos_weight=1, seed=None,\n",
       "             silent=None, subsample=1, verbosity=1)"
      ]
     },
     "execution_count": 558,
     "metadata": {},
     "output_type": "execute_result"
    }
   ],
   "source": [
    "params = {\n",
    "    'n_estimators': 1000,\n",
    "    'learning_rate': 0.1,\n",
    "    'max_depth' : 2,\n",
    "    'criterion': 'mse'\n",
    "}\n",
    "\n",
    "xgbmodel = xgb.XGBRegressor(**params)\n",
    "xgbmodel.fit(X_train, y_train)"
   ]
  },
  {
   "cell_type": "code",
   "execution_count": 560,
   "metadata": {},
   "outputs": [],
   "source": [
    "import math"
   ]
  },
  {
   "cell_type": "code",
   "execution_count": 561,
   "metadata": {},
   "outputs": [
    {
     "data": {
      "text/plain": [
       "1.0"
      ]
     },
     "execution_count": 561,
     "metadata": {},
     "output_type": "execute_result"
    }
   ],
   "source": [
    "math.pow(1, 2)"
   ]
  },
  {
   "cell_type": "code",
   "execution_count": 564,
   "metadata": {},
   "outputs": [
    {
     "data": {
      "text/plain": [
       "SpearmanrResult(correlation=0.9999825921478592, pvalue=0.0)"
      ]
     },
     "execution_count": 564,
     "metadata": {},
     "output_type": "execute_result"
    }
   ],
   "source": [
    "stats.spearmanr(y_test, xgbmodel.predict(X_test))"
   ]
  },
  {
   "cell_type": "code",
   "execution_count": null,
   "metadata": {},
   "outputs": [],
   "source": []
  }
 ],
 "metadata": {
  "kernelspec": {
   "display_name": "Python 3",
   "language": "python",
   "name": "python3"
  },
  "language_info": {
   "codemirror_mode": {
    "name": "ipython",
    "version": 3
   },
   "file_extension": ".py",
   "mimetype": "text/x-python",
   "name": "python",
   "nbconvert_exporter": "python",
   "pygments_lexer": "ipython3",
   "version": "3.6.7"
  }
 },
 "nbformat": 4,
 "nbformat_minor": 4
}
